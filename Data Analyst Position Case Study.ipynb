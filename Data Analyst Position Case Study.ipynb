{
 "cells": [
  {
   "cell_type": "markdown",
   "metadata": {},
   "source": [
    "# Data Analyst Position Case Study\n",
    "\n",
    "\n"
   ]
  },
  {
   "cell_type": "markdown",
   "metadata": {},
   "source": [
    "## Data cleaning and manipulation using Python"
   ]
  },
  {
   "cell_type": "code",
   "execution_count": 1,
   "metadata": {},
   "outputs": [
    {
     "data": {
      "text/html": [
       "        <script type=\"text/javascript\">\n",
       "        window.PlotlyConfig = {MathJaxConfig: 'local'};\n",
       "        if (window.MathJax && window.MathJax.Hub && window.MathJax.Hub.Config) {window.MathJax.Hub.Config({SVG: {font: \"STIX-Web\"}});}\n",
       "        if (typeof require !== 'undefined') {\n",
       "        require.undef(\"plotly\");\n",
       "        requirejs.config({\n",
       "            paths: {\n",
       "                'plotly': ['https://cdn.plot.ly/plotly-2.12.1.min']\n",
       "            }\n",
       "        });\n",
       "        require(['plotly'], function(Plotly) {\n",
       "            window._Plotly = Plotly;\n",
       "        });\n",
       "        }\n",
       "        </script>\n",
       "        "
      ]
     },
     "metadata": {},
     "output_type": "display_data"
    }
   ],
   "source": [
    "# Import libraries necessary for this project\n",
    "import numpy as np\n",
    "import pandas as pd\n",
    "from time import time\n",
    "import matplotlib.pylab as plt\n",
    "import seaborn as sns\n",
    "from IPython.display import display # Allows the use of display() for DataFrames\n",
    "import plotly.graph_objs as go\n",
    "import plotly.offline as offline\n",
    "\n",
    "offline.init_notebook_mode(connected=True)\n",
    "\n",
    "# Pretty display for notebooks\n",
    "%matplotlib inline\n",
    "sns.set(style='dark', color_codes = True, palette=\"magma\")"
   ]
  },
  {
   "cell_type": "code",
   "execution_count": 2,
   "metadata": {},
   "outputs": [
    {
     "data": {
      "text/html": [
       "<div>\n",
       "<style scoped>\n",
       "    .dataframe tbody tr th:only-of-type {\n",
       "        vertical-align: middle;\n",
       "    }\n",
       "\n",
       "    .dataframe tbody tr th {\n",
       "        vertical-align: top;\n",
       "    }\n",
       "\n",
       "    .dataframe thead th {\n",
       "        text-align: right;\n",
       "    }\n",
       "</style>\n",
       "<table border=\"1\" class=\"dataframe\">\n",
       "  <thead>\n",
       "    <tr style=\"text-align: right;\">\n",
       "      <th></th>\n",
       "      <th>Project Code</th>\n",
       "      <th>Project_Status</th>\n",
       "      <th>Calendar</th>\n",
       "      <th>Hours</th>\n",
       "      <th>Week</th>\n",
       "      <th>Forecasted hours</th>\n",
       "      <th>Budget Hours</th>\n",
       "      <th>Service type</th>\n",
       "      <th>Period_From</th>\n",
       "      <th>Period_To</th>\n",
       "      <th>...</th>\n",
       "      <th>Unnamed: 16</th>\n",
       "      <th>Unnamed: 17</th>\n",
       "      <th>Unnamed: 18</th>\n",
       "      <th>Unnamed: 19</th>\n",
       "      <th>Unnamed: 20</th>\n",
       "      <th>Unnamed: 21</th>\n",
       "      <th>Unnamed: 22</th>\n",
       "      <th>Unnamed: 23</th>\n",
       "      <th>Unnamed: 24</th>\n",
       "      <th>Unnamed: 25</th>\n",
       "    </tr>\n",
       "  </thead>\n",
       "  <tbody>\n",
       "    <tr>\n",
       "      <th>0</th>\n",
       "      <td>1WK2855</td>\n",
       "      <td>Under Development</td>\n",
       "      <td>EG_02</td>\n",
       "      <td>20.0</td>\n",
       "      <td>2022_W27</td>\n",
       "      <td>9.0</td>\n",
       "      <td>24.0</td>\n",
       "      <td>NaN</td>\n",
       "      <td>2022_W24</td>\n",
       "      <td>2022_W42</td>\n",
       "      <td>...</td>\n",
       "      <td>NaN</td>\n",
       "      <td>NaN</td>\n",
       "      <td>NaN</td>\n",
       "      <td>NaN</td>\n",
       "      <td>NaN</td>\n",
       "      <td>NaN</td>\n",
       "      <td>NaN</td>\n",
       "      <td>NaN</td>\n",
       "      <td>NaN</td>\n",
       "      <td>NaN</td>\n",
       "    </tr>\n",
       "    <tr>\n",
       "      <th>1</th>\n",
       "      <td>1WK1339</td>\n",
       "      <td>Under Development</td>\n",
       "      <td>EG_02</td>\n",
       "      <td>28.0</td>\n",
       "      <td>2022_W26</td>\n",
       "      <td>12.0</td>\n",
       "      <td>14.0</td>\n",
       "      <td>NaN</td>\n",
       "      <td>2022_W24</td>\n",
       "      <td>2022_W42</td>\n",
       "      <td>...</td>\n",
       "      <td>NaN</td>\n",
       "      <td>NaN</td>\n",
       "      <td>NaN</td>\n",
       "      <td>NaN</td>\n",
       "      <td>NaN</td>\n",
       "      <td>NaN</td>\n",
       "      <td>NaN</td>\n",
       "      <td>NaN</td>\n",
       "      <td>NaN</td>\n",
       "      <td>NaN</td>\n",
       "    </tr>\n",
       "    <tr>\n",
       "      <th>2</th>\n",
       "      <td>1WK1418</td>\n",
       "      <td>Under Development</td>\n",
       "      <td>EG_02</td>\n",
       "      <td>3.0</td>\n",
       "      <td>2022_W30</td>\n",
       "      <td>21.0</td>\n",
       "      <td>12.0</td>\n",
       "      <td>NaN</td>\n",
       "      <td>2022_W24</td>\n",
       "      <td>2022_W42</td>\n",
       "      <td>...</td>\n",
       "      <td>NaN</td>\n",
       "      <td>NaN</td>\n",
       "      <td>NaN</td>\n",
       "      <td>NaN</td>\n",
       "      <td>NaN</td>\n",
       "      <td>NaN</td>\n",
       "      <td>NaN</td>\n",
       "      <td>NaN</td>\n",
       "      <td>NaN</td>\n",
       "      <td>NaN</td>\n",
       "    </tr>\n",
       "    <tr>\n",
       "      <th>3</th>\n",
       "      <td>1WK1304</td>\n",
       "      <td>Under Development</td>\n",
       "      <td>EG_02</td>\n",
       "      <td>28.0</td>\n",
       "      <td>2022_W25</td>\n",
       "      <td>19.0</td>\n",
       "      <td>30.0</td>\n",
       "      <td>NaN</td>\n",
       "      <td>2022_W24</td>\n",
       "      <td>2022_W42</td>\n",
       "      <td>...</td>\n",
       "      <td>NaN</td>\n",
       "      <td>NaN</td>\n",
       "      <td>NaN</td>\n",
       "      <td>NaN</td>\n",
       "      <td>NaN</td>\n",
       "      <td>NaN</td>\n",
       "      <td>NaN</td>\n",
       "      <td>NaN</td>\n",
       "      <td>NaN</td>\n",
       "      <td>NaN</td>\n",
       "    </tr>\n",
       "    <tr>\n",
       "      <th>4</th>\n",
       "      <td>1WK1376</td>\n",
       "      <td>Under Acquisition</td>\n",
       "      <td>EG_02</td>\n",
       "      <td>4.0</td>\n",
       "      <td>2022_W26</td>\n",
       "      <td>6.0</td>\n",
       "      <td>25.0</td>\n",
       "      <td>NaN</td>\n",
       "      <td>2022_W24</td>\n",
       "      <td>2022_W42</td>\n",
       "      <td>...</td>\n",
       "      <td>NaN</td>\n",
       "      <td>NaN</td>\n",
       "      <td>NaN</td>\n",
       "      <td>NaN</td>\n",
       "      <td>NaN</td>\n",
       "      <td>NaN</td>\n",
       "      <td>NaN</td>\n",
       "      <td>NaN</td>\n",
       "      <td>NaN</td>\n",
       "      <td>NaN</td>\n",
       "    </tr>\n",
       "    <tr>\n",
       "      <th>5</th>\n",
       "      <td>1WK1340</td>\n",
       "      <td>Under Acquisition</td>\n",
       "      <td>EG_02</td>\n",
       "      <td>5.0</td>\n",
       "      <td>2022_W25</td>\n",
       "      <td>32.0</td>\n",
       "      <td>2.0</td>\n",
       "      <td>NaN</td>\n",
       "      <td>2022_W24</td>\n",
       "      <td>2022_W42</td>\n",
       "      <td>...</td>\n",
       "      <td>NaN</td>\n",
       "      <td>NaN</td>\n",
       "      <td>NaN</td>\n",
       "      <td>NaN</td>\n",
       "      <td>NaN</td>\n",
       "      <td>NaN</td>\n",
       "      <td>NaN</td>\n",
       "      <td>NaN</td>\n",
       "      <td>NaN</td>\n",
       "      <td>NaN</td>\n",
       "    </tr>\n",
       "    <tr>\n",
       "      <th>6</th>\n",
       "      <td>1WK1622</td>\n",
       "      <td>Under Development</td>\n",
       "      <td>EG_02</td>\n",
       "      <td>8.0</td>\n",
       "      <td>2022_W29</td>\n",
       "      <td>40.0</td>\n",
       "      <td>31.0</td>\n",
       "      <td>NaN</td>\n",
       "      <td>2022_W24</td>\n",
       "      <td>2022_W42</td>\n",
       "      <td>...</td>\n",
       "      <td>NaN</td>\n",
       "      <td>NaN</td>\n",
       "      <td>NaN</td>\n",
       "      <td>NaN</td>\n",
       "      <td>NaN</td>\n",
       "      <td>NaN</td>\n",
       "      <td>NaN</td>\n",
       "      <td>NaN</td>\n",
       "      <td>NaN</td>\n",
       "      <td>NaN</td>\n",
       "    </tr>\n",
       "    <tr>\n",
       "      <th>7</th>\n",
       "      <td>1WK1822</td>\n",
       "      <td>Under Development</td>\n",
       "      <td>EG_02</td>\n",
       "      <td>15.0</td>\n",
       "      <td>2022_W27</td>\n",
       "      <td>28.0</td>\n",
       "      <td>16.0</td>\n",
       "      <td>NaN</td>\n",
       "      <td>2022_W24</td>\n",
       "      <td>2022_W42</td>\n",
       "      <td>...</td>\n",
       "      <td>NaN</td>\n",
       "      <td>NaN</td>\n",
       "      <td>NaN</td>\n",
       "      <td>NaN</td>\n",
       "      <td>NaN</td>\n",
       "      <td>NaN</td>\n",
       "      <td>NaN</td>\n",
       "      <td>NaN</td>\n",
       "      <td>NaN</td>\n",
       "      <td>NaN</td>\n",
       "    </tr>\n",
       "    <tr>\n",
       "      <th>8</th>\n",
       "      <td>1WK1206</td>\n",
       "      <td>Under Development</td>\n",
       "      <td>EG_02</td>\n",
       "      <td>7.0</td>\n",
       "      <td>2022_W25</td>\n",
       "      <td>38.0</td>\n",
       "      <td>17.0</td>\n",
       "      <td>NaN</td>\n",
       "      <td>2022_W24</td>\n",
       "      <td>2022_W42</td>\n",
       "      <td>...</td>\n",
       "      <td>NaN</td>\n",
       "      <td>NaN</td>\n",
       "      <td>NaN</td>\n",
       "      <td>NaN</td>\n",
       "      <td>NaN</td>\n",
       "      <td>NaN</td>\n",
       "      <td>NaN</td>\n",
       "      <td>NaN</td>\n",
       "      <td>NaN</td>\n",
       "      <td>NaN</td>\n",
       "    </tr>\n",
       "    <tr>\n",
       "      <th>9</th>\n",
       "      <td>9WK1626</td>\n",
       "      <td>Open</td>\n",
       "      <td>EG_02</td>\n",
       "      <td>16.0</td>\n",
       "      <td>2022_W29</td>\n",
       "      <td>5.0</td>\n",
       "      <td>38.0</td>\n",
       "      <td>Overheads</td>\n",
       "      <td>2022_W24</td>\n",
       "      <td>2022_W42</td>\n",
       "      <td>...</td>\n",
       "      <td>NaN</td>\n",
       "      <td>NaN</td>\n",
       "      <td>NaN</td>\n",
       "      <td>NaN</td>\n",
       "      <td>NaN</td>\n",
       "      <td>NaN</td>\n",
       "      <td>NaN</td>\n",
       "      <td>NaN</td>\n",
       "      <td>NaN</td>\n",
       "      <td>NaN</td>\n",
       "    </tr>\n",
       "  </tbody>\n",
       "</table>\n",
       "<p>10 rows × 26 columns</p>\n",
       "</div>"
      ],
      "text/plain": [
       "  Project Code     Project_Status Calendar  Hours      Week  Forecasted hours  \\\n",
       "0      1WK2855  Under Development    EG_02   20.0  2022_W27               9.0   \n",
       "1      1WK1339  Under Development    EG_02   28.0  2022_W26              12.0   \n",
       "2      1WK1418  Under Development    EG_02    3.0  2022_W30              21.0   \n",
       "3      1WK1304  Under Development    EG_02   28.0  2022_W25              19.0   \n",
       "4      1WK1376  Under Acquisition    EG_02    4.0  2022_W26               6.0   \n",
       "5      1WK1340  Under Acquisition    EG_02    5.0  2022_W25              32.0   \n",
       "6      1WK1622  Under Development    EG_02    8.0  2022_W29              40.0   \n",
       "7      1WK1822  Under Development    EG_02   15.0  2022_W27              28.0   \n",
       "8      1WK1206  Under Development    EG_02    7.0  2022_W25              38.0   \n",
       "9      9WK1626               Open    EG_02   16.0  2022_W29               5.0   \n",
       "\n",
       "   Budget Hours Service type Period_From Period_To  ...  Unnamed: 16  \\\n",
       "0          24.0          NaN    2022_W24  2022_W42  ...          NaN   \n",
       "1          14.0          NaN    2022_W24  2022_W42  ...          NaN   \n",
       "2          12.0          NaN    2022_W24  2022_W42  ...          NaN   \n",
       "3          30.0          NaN    2022_W24  2022_W42  ...          NaN   \n",
       "4          25.0          NaN    2022_W24  2022_W42  ...          NaN   \n",
       "5           2.0          NaN    2022_W24  2022_W42  ...          NaN   \n",
       "6          31.0          NaN    2022_W24  2022_W42  ...          NaN   \n",
       "7          16.0          NaN    2022_W24  2022_W42  ...          NaN   \n",
       "8          17.0          NaN    2022_W24  2022_W42  ...          NaN   \n",
       "9          38.0    Overheads    2022_W24  2022_W42  ...          NaN   \n",
       "\n",
       "  Unnamed: 17  Unnamed: 18  Unnamed: 19  Unnamed: 20  Unnamed: 21  \\\n",
       "0         NaN          NaN          NaN          NaN          NaN   \n",
       "1         NaN          NaN          NaN          NaN          NaN   \n",
       "2         NaN          NaN          NaN          NaN          NaN   \n",
       "3         NaN          NaN          NaN          NaN          NaN   \n",
       "4         NaN          NaN          NaN          NaN          NaN   \n",
       "5         NaN          NaN          NaN          NaN          NaN   \n",
       "6         NaN          NaN          NaN          NaN          NaN   \n",
       "7         NaN          NaN          NaN          NaN          NaN   \n",
       "8         NaN          NaN          NaN          NaN          NaN   \n",
       "9         NaN          NaN          NaN          NaN          NaN   \n",
       "\n",
       "   Unnamed: 22  Unnamed: 23  Unnamed: 24  Unnamed: 25  \n",
       "0          NaN          NaN          NaN          NaN  \n",
       "1          NaN          NaN          NaN          NaN  \n",
       "2          NaN          NaN          NaN          NaN  \n",
       "3          NaN          NaN          NaN          NaN  \n",
       "4          NaN          NaN          NaN          NaN  \n",
       "5          NaN          NaN          NaN          NaN  \n",
       "6          NaN          NaN          NaN          NaN  \n",
       "7          NaN          NaN          NaN          NaN  \n",
       "8          NaN          NaN          NaN          NaN  \n",
       "9          NaN          NaN          NaN          NaN  \n",
       "\n",
       "[10 rows x 26 columns]"
      ]
     },
     "metadata": {},
     "output_type": "display_data"
    }
   ],
   "source": [
    "# Load the Census dataset\n",
    "hours = pd.read_csv(\"Use Case.csv\")\n",
    "Engineering = pd.read_csv(\"Engineering.csv\")\n",
    "# Success - Display the first record\n",
    "display(hours.head(n=10))"
   ]
  },
  {
   "cell_type": "code",
   "execution_count": 3,
   "metadata": {},
   "outputs": [
    {
     "data": {
      "text/plain": [
       "(92092, 26)"
      ]
     },
     "execution_count": 3,
     "metadata": {},
     "output_type": "execute_result"
    }
   ],
   "source": [
    "hours.shape"
   ]
  },
  {
   "cell_type": "code",
   "execution_count": 4,
   "metadata": {},
   "outputs": [
    {
     "data": {
      "text/plain": [
       "Index(['Project Code', 'Project_Status', 'Calendar', 'Hours', 'Week',\n",
       "       'Forecasted hours', 'Budget Hours', 'Service type', 'Period_From',\n",
       "       'Period_To', 'Cost Rate', 'Department', 'Unnamed: 12', 'Unnamed: 13',\n",
       "       'Unnamed: 14', 'Unnamed: 15', 'Unnamed: 16', 'Unnamed: 17',\n",
       "       'Unnamed: 18', 'Unnamed: 19', 'Unnamed: 20', 'Unnamed: 21',\n",
       "       'Unnamed: 22', 'Unnamed: 23', 'Unnamed: 24', 'Unnamed: 25'],\n",
       "      dtype='object')"
      ]
     },
     "execution_count": 4,
     "metadata": {},
     "output_type": "execute_result"
    }
   ],
   "source": [
    "hours.columns"
   ]
  },
  {
   "cell_type": "code",
   "execution_count": 5,
   "metadata": {},
   "outputs": [
    {
     "data": {
      "text/html": [
       "<div>\n",
       "<style scoped>\n",
       "    .dataframe tbody tr th:only-of-type {\n",
       "        vertical-align: middle;\n",
       "    }\n",
       "\n",
       "    .dataframe tbody tr th {\n",
       "        vertical-align: top;\n",
       "    }\n",
       "\n",
       "    .dataframe thead th {\n",
       "        text-align: right;\n",
       "    }\n",
       "</style>\n",
       "<table border=\"1\" class=\"dataframe\">\n",
       "  <thead>\n",
       "    <tr style=\"text-align: right;\">\n",
       "      <th></th>\n",
       "      <th>Project Code</th>\n",
       "      <th>Project_Status</th>\n",
       "      <th>Calendar</th>\n",
       "      <th>Hours</th>\n",
       "      <th>Week</th>\n",
       "      <th>Forecasted hours</th>\n",
       "      <th>Budget Hours</th>\n",
       "      <th>Service type</th>\n",
       "      <th>Period_From</th>\n",
       "      <th>Period_To</th>\n",
       "      <th>Cost Rate</th>\n",
       "      <th>Department</th>\n",
       "    </tr>\n",
       "  </thead>\n",
       "  <tbody>\n",
       "    <tr>\n",
       "      <th>0</th>\n",
       "      <td>1WK2855</td>\n",
       "      <td>Under Development</td>\n",
       "      <td>EG_02</td>\n",
       "      <td>20.0</td>\n",
       "      <td>2022_W27</td>\n",
       "      <td>9.0</td>\n",
       "      <td>24.0</td>\n",
       "      <td>NaN</td>\n",
       "      <td>2022_W24</td>\n",
       "      <td>2022_W42</td>\n",
       "      <td>33.32</td>\n",
       "      <td>Camera</td>\n",
       "    </tr>\n",
       "    <tr>\n",
       "      <th>1</th>\n",
       "      <td>1WK1339</td>\n",
       "      <td>Under Development</td>\n",
       "      <td>EG_02</td>\n",
       "      <td>28.0</td>\n",
       "      <td>2022_W26</td>\n",
       "      <td>12.0</td>\n",
       "      <td>14.0</td>\n",
       "      <td>NaN</td>\n",
       "      <td>2022_W24</td>\n",
       "      <td>2022_W42</td>\n",
       "      <td>33.32</td>\n",
       "      <td>Camera</td>\n",
       "    </tr>\n",
       "    <tr>\n",
       "      <th>2</th>\n",
       "      <td>1WK1418</td>\n",
       "      <td>Under Development</td>\n",
       "      <td>EG_02</td>\n",
       "      <td>3.0</td>\n",
       "      <td>2022_W30</td>\n",
       "      <td>21.0</td>\n",
       "      <td>12.0</td>\n",
       "      <td>NaN</td>\n",
       "      <td>2022_W24</td>\n",
       "      <td>2022_W42</td>\n",
       "      <td>33.32</td>\n",
       "      <td>Camera</td>\n",
       "    </tr>\n",
       "    <tr>\n",
       "      <th>3</th>\n",
       "      <td>1WK1304</td>\n",
       "      <td>Under Development</td>\n",
       "      <td>EG_02</td>\n",
       "      <td>28.0</td>\n",
       "      <td>2022_W25</td>\n",
       "      <td>19.0</td>\n",
       "      <td>30.0</td>\n",
       "      <td>NaN</td>\n",
       "      <td>2022_W24</td>\n",
       "      <td>2022_W42</td>\n",
       "      <td>33.32</td>\n",
       "      <td>Camera</td>\n",
       "    </tr>\n",
       "    <tr>\n",
       "      <th>4</th>\n",
       "      <td>1WK1376</td>\n",
       "      <td>Under Acquisition</td>\n",
       "      <td>EG_02</td>\n",
       "      <td>4.0</td>\n",
       "      <td>2022_W26</td>\n",
       "      <td>6.0</td>\n",
       "      <td>25.0</td>\n",
       "      <td>NaN</td>\n",
       "      <td>2022_W24</td>\n",
       "      <td>2022_W42</td>\n",
       "      <td>33.32</td>\n",
       "      <td>Camera</td>\n",
       "    </tr>\n",
       "  </tbody>\n",
       "</table>\n",
       "</div>"
      ],
      "text/plain": [
       "  Project Code     Project_Status Calendar  Hours      Week  Forecasted hours  \\\n",
       "0      1WK2855  Under Development    EG_02   20.0  2022_W27               9.0   \n",
       "1      1WK1339  Under Development    EG_02   28.0  2022_W26              12.0   \n",
       "2      1WK1418  Under Development    EG_02    3.0  2022_W30              21.0   \n",
       "3      1WK1304  Under Development    EG_02   28.0  2022_W25              19.0   \n",
       "4      1WK1376  Under Acquisition    EG_02    4.0  2022_W26               6.0   \n",
       "\n",
       "   Budget Hours Service type Period_From Period_To  Cost Rate Department  \n",
       "0          24.0          NaN    2022_W24  2022_W42      33.32     Camera  \n",
       "1          14.0          NaN    2022_W24  2022_W42      33.32     Camera  \n",
       "2          12.0          NaN    2022_W24  2022_W42      33.32     Camera  \n",
       "3          30.0          NaN    2022_W24  2022_W42      33.32     Camera  \n",
       "4          25.0          NaN    2022_W24  2022_W42      33.32     Camera  "
      ]
     },
     "execution_count": 5,
     "metadata": {},
     "output_type": "execute_result"
    }
   ],
   "source": [
    "to_drop = ['Unnamed: 12', 'Unnamed: 13',\n",
    "       'Unnamed: 14', 'Unnamed: 15', 'Unnamed: 16', 'Unnamed: 17',\n",
    "       'Unnamed: 18', 'Unnamed: 19', 'Unnamed: 20', 'Unnamed: 21',\n",
    "       'Unnamed: 22', 'Unnamed: 23', 'Unnamed: 24', 'Unnamed: 25']\n",
    "hours.drop(to_drop, inplace=True, axis=1)\n",
    "hours.head()"
   ]
  },
  {
   "cell_type": "code",
   "execution_count": 6,
   "metadata": {},
   "outputs": [
    {
     "data": {
      "text/plain": [
       "Project Code         object\n",
       "Project_Status       object\n",
       "Calendar             object\n",
       "Hours               float64\n",
       "Week                 object\n",
       "Forecasted hours    float64\n",
       "Budget Hours        float64\n",
       "Service type         object\n",
       "Period_From          object\n",
       "Period_To            object\n",
       "Cost Rate           float64\n",
       "Department           object\n",
       "dtype: object"
      ]
     },
     "execution_count": 6,
     "metadata": {},
     "output_type": "execute_result"
    }
   ],
   "source": [
    "hours.dtypes"
   ]
  },
  {
   "cell_type": "markdown",
   "metadata": {},
   "source": [
    "### Handling Missing Data"
   ]
  },
  {
   "cell_type": "code",
   "execution_count": 7,
   "metadata": {},
   "outputs": [
    {
     "data": {
      "text/plain": [
       "Project Code        11743\n",
       "Project_Status      11743\n",
       "Calendar            11743\n",
       "Hours               11743\n",
       "Week                11743\n",
       "Forecasted hours    11743\n",
       "Budget Hours        11743\n",
       "Service type        81699\n",
       "Period_From         11743\n",
       "Period_To           11743\n",
       "Cost Rate           11743\n",
       "Department          11743\n",
       "dtype: int64"
      ]
     },
     "execution_count": 7,
     "metadata": {},
     "output_type": "execute_result"
    }
   ],
   "source": [
    "hours.isnull().sum()"
   ]
  },
  {
   "cell_type": "code",
   "execution_count": 8,
   "metadata": {},
   "outputs": [
    {
     "data": {
      "text/html": [
       "<div>\n",
       "<style scoped>\n",
       "    .dataframe tbody tr th:only-of-type {\n",
       "        vertical-align: middle;\n",
       "    }\n",
       "\n",
       "    .dataframe tbody tr th {\n",
       "        vertical-align: top;\n",
       "    }\n",
       "\n",
       "    .dataframe thead th {\n",
       "        text-align: right;\n",
       "    }\n",
       "</style>\n",
       "<table border=\"1\" class=\"dataframe\">\n",
       "  <thead>\n",
       "    <tr style=\"text-align: right;\">\n",
       "      <th></th>\n",
       "      <th>Project Code</th>\n",
       "      <th>Project_Status</th>\n",
       "      <th>Calendar</th>\n",
       "      <th>Hours</th>\n",
       "      <th>Week</th>\n",
       "      <th>Forecasted hours</th>\n",
       "      <th>Budget Hours</th>\n",
       "      <th>Service type</th>\n",
       "      <th>Period_From</th>\n",
       "      <th>Period_To</th>\n",
       "      <th>Cost Rate</th>\n",
       "      <th>Department</th>\n",
       "    </tr>\n",
       "  </thead>\n",
       "  <tbody>\n",
       "    <tr>\n",
       "      <th>0</th>\n",
       "      <td>1WK2855</td>\n",
       "      <td>Under Development</td>\n",
       "      <td>EG_02</td>\n",
       "      <td>20.0</td>\n",
       "      <td>2022_W27</td>\n",
       "      <td>9.0</td>\n",
       "      <td>24.0</td>\n",
       "      <td>NaN</td>\n",
       "      <td>2022_W24</td>\n",
       "      <td>2022_W42</td>\n",
       "      <td>33.32</td>\n",
       "      <td>Camera</td>\n",
       "    </tr>\n",
       "    <tr>\n",
       "      <th>1</th>\n",
       "      <td>1WK1339</td>\n",
       "      <td>Under Development</td>\n",
       "      <td>EG_02</td>\n",
       "      <td>28.0</td>\n",
       "      <td>2022_W26</td>\n",
       "      <td>12.0</td>\n",
       "      <td>14.0</td>\n",
       "      <td>NaN</td>\n",
       "      <td>2022_W24</td>\n",
       "      <td>2022_W42</td>\n",
       "      <td>33.32</td>\n",
       "      <td>Camera</td>\n",
       "    </tr>\n",
       "    <tr>\n",
       "      <th>2</th>\n",
       "      <td>1WK1418</td>\n",
       "      <td>Under Development</td>\n",
       "      <td>EG_02</td>\n",
       "      <td>3.0</td>\n",
       "      <td>2022_W30</td>\n",
       "      <td>21.0</td>\n",
       "      <td>12.0</td>\n",
       "      <td>NaN</td>\n",
       "      <td>2022_W24</td>\n",
       "      <td>2022_W42</td>\n",
       "      <td>33.32</td>\n",
       "      <td>Camera</td>\n",
       "    </tr>\n",
       "    <tr>\n",
       "      <th>3</th>\n",
       "      <td>1WK1304</td>\n",
       "      <td>Under Development</td>\n",
       "      <td>EG_02</td>\n",
       "      <td>28.0</td>\n",
       "      <td>2022_W25</td>\n",
       "      <td>19.0</td>\n",
       "      <td>30.0</td>\n",
       "      <td>NaN</td>\n",
       "      <td>2022_W24</td>\n",
       "      <td>2022_W42</td>\n",
       "      <td>33.32</td>\n",
       "      <td>Camera</td>\n",
       "    </tr>\n",
       "    <tr>\n",
       "      <th>4</th>\n",
       "      <td>1WK1376</td>\n",
       "      <td>Under Acquisition</td>\n",
       "      <td>EG_02</td>\n",
       "      <td>4.0</td>\n",
       "      <td>2022_W26</td>\n",
       "      <td>6.0</td>\n",
       "      <td>25.0</td>\n",
       "      <td>NaN</td>\n",
       "      <td>2022_W24</td>\n",
       "      <td>2022_W42</td>\n",
       "      <td>33.32</td>\n",
       "      <td>Camera</td>\n",
       "    </tr>\n",
       "    <tr>\n",
       "      <th>...</th>\n",
       "      <td>...</td>\n",
       "      <td>...</td>\n",
       "      <td>...</td>\n",
       "      <td>...</td>\n",
       "      <td>...</td>\n",
       "      <td>...</td>\n",
       "      <td>...</td>\n",
       "      <td>...</td>\n",
       "      <td>...</td>\n",
       "      <td>...</td>\n",
       "      <td>...</td>\n",
       "      <td>...</td>\n",
       "    </tr>\n",
       "    <tr>\n",
       "      <th>92087</th>\n",
       "      <td>NaN</td>\n",
       "      <td>NaN</td>\n",
       "      <td>NaN</td>\n",
       "      <td>NaN</td>\n",
       "      <td>NaN</td>\n",
       "      <td>NaN</td>\n",
       "      <td>NaN</td>\n",
       "      <td>NaN</td>\n",
       "      <td>NaN</td>\n",
       "      <td>NaN</td>\n",
       "      <td>NaN</td>\n",
       "      <td>NaN</td>\n",
       "    </tr>\n",
       "    <tr>\n",
       "      <th>92088</th>\n",
       "      <td>NaN</td>\n",
       "      <td>NaN</td>\n",
       "      <td>NaN</td>\n",
       "      <td>NaN</td>\n",
       "      <td>NaN</td>\n",
       "      <td>NaN</td>\n",
       "      <td>NaN</td>\n",
       "      <td>NaN</td>\n",
       "      <td>NaN</td>\n",
       "      <td>NaN</td>\n",
       "      <td>NaN</td>\n",
       "      <td>NaN</td>\n",
       "    </tr>\n",
       "    <tr>\n",
       "      <th>92089</th>\n",
       "      <td>NaN</td>\n",
       "      <td>NaN</td>\n",
       "      <td>NaN</td>\n",
       "      <td>NaN</td>\n",
       "      <td>NaN</td>\n",
       "      <td>NaN</td>\n",
       "      <td>NaN</td>\n",
       "      <td>NaN</td>\n",
       "      <td>NaN</td>\n",
       "      <td>NaN</td>\n",
       "      <td>NaN</td>\n",
       "      <td>NaN</td>\n",
       "    </tr>\n",
       "    <tr>\n",
       "      <th>92090</th>\n",
       "      <td>NaN</td>\n",
       "      <td>NaN</td>\n",
       "      <td>NaN</td>\n",
       "      <td>NaN</td>\n",
       "      <td>NaN</td>\n",
       "      <td>NaN</td>\n",
       "      <td>NaN</td>\n",
       "      <td>NaN</td>\n",
       "      <td>NaN</td>\n",
       "      <td>NaN</td>\n",
       "      <td>NaN</td>\n",
       "      <td>NaN</td>\n",
       "    </tr>\n",
       "    <tr>\n",
       "      <th>92091</th>\n",
       "      <td>NaN</td>\n",
       "      <td>NaN</td>\n",
       "      <td>NaN</td>\n",
       "      <td>NaN</td>\n",
       "      <td>NaN</td>\n",
       "      <td>NaN</td>\n",
       "      <td>NaN</td>\n",
       "      <td>NaN</td>\n",
       "      <td>NaN</td>\n",
       "      <td>NaN</td>\n",
       "      <td>NaN</td>\n",
       "      <td>NaN</td>\n",
       "    </tr>\n",
       "  </tbody>\n",
       "</table>\n",
       "<p>81699 rows × 12 columns</p>\n",
       "</div>"
      ],
      "text/plain": [
       "      Project Code     Project_Status Calendar  Hours      Week  \\\n",
       "0          1WK2855  Under Development    EG_02   20.0  2022_W27   \n",
       "1          1WK1339  Under Development    EG_02   28.0  2022_W26   \n",
       "2          1WK1418  Under Development    EG_02    3.0  2022_W30   \n",
       "3          1WK1304  Under Development    EG_02   28.0  2022_W25   \n",
       "4          1WK1376  Under Acquisition    EG_02    4.0  2022_W26   \n",
       "...            ...                ...      ...    ...       ...   \n",
       "92087          NaN                NaN      NaN    NaN       NaN   \n",
       "92088          NaN                NaN      NaN    NaN       NaN   \n",
       "92089          NaN                NaN      NaN    NaN       NaN   \n",
       "92090          NaN                NaN      NaN    NaN       NaN   \n",
       "92091          NaN                NaN      NaN    NaN       NaN   \n",
       "\n",
       "       Forecasted hours  Budget Hours Service type Period_From Period_To  \\\n",
       "0                   9.0          24.0          NaN    2022_W24  2022_W42   \n",
       "1                  12.0          14.0          NaN    2022_W24  2022_W42   \n",
       "2                  21.0          12.0          NaN    2022_W24  2022_W42   \n",
       "3                  19.0          30.0          NaN    2022_W24  2022_W42   \n",
       "4                   6.0          25.0          NaN    2022_W24  2022_W42   \n",
       "...                 ...           ...          ...         ...       ...   \n",
       "92087               NaN           NaN          NaN         NaN       NaN   \n",
       "92088               NaN           NaN          NaN         NaN       NaN   \n",
       "92089               NaN           NaN          NaN         NaN       NaN   \n",
       "92090               NaN           NaN          NaN         NaN       NaN   \n",
       "92091               NaN           NaN          NaN         NaN       NaN   \n",
       "\n",
       "       Cost Rate Department  \n",
       "0          33.32     Camera  \n",
       "1          33.32     Camera  \n",
       "2          33.32     Camera  \n",
       "3          33.32     Camera  \n",
       "4          33.32     Camera  \n",
       "...          ...        ...  \n",
       "92087        NaN        NaN  \n",
       "92088        NaN        NaN  \n",
       "92089        NaN        NaN  \n",
       "92090        NaN        NaN  \n",
       "92091        NaN        NaN  \n",
       "\n",
       "[81699 rows x 12 columns]"
      ]
     },
     "execution_count": 8,
     "metadata": {},
     "output_type": "execute_result"
    }
   ],
   "source": [
    "bool = pd.isnull(hours['Service type'])\n",
    "\n",
    "hours[bool]"
   ]
  },
  {
   "cell_type": "code",
   "execution_count": 9,
   "metadata": {},
   "outputs": [
    {
     "data": {
      "text/html": [
       "<div>\n",
       "<style scoped>\n",
       "    .dataframe tbody tr th:only-of-type {\n",
       "        vertical-align: middle;\n",
       "    }\n",
       "\n",
       "    .dataframe tbody tr th {\n",
       "        vertical-align: top;\n",
       "    }\n",
       "\n",
       "    .dataframe thead th {\n",
       "        text-align: right;\n",
       "    }\n",
       "</style>\n",
       "<table border=\"1\" class=\"dataframe\">\n",
       "  <thead>\n",
       "    <tr style=\"text-align: right;\">\n",
       "      <th></th>\n",
       "      <th>Project Code</th>\n",
       "      <th>Project_Status</th>\n",
       "      <th>Calendar</th>\n",
       "      <th>Hours</th>\n",
       "      <th>Week</th>\n",
       "      <th>Forecasted hours</th>\n",
       "      <th>Budget Hours</th>\n",
       "      <th>Service type</th>\n",
       "      <th>Period_From</th>\n",
       "      <th>Period_To</th>\n",
       "      <th>Cost Rate</th>\n",
       "      <th>Department</th>\n",
       "    </tr>\n",
       "  </thead>\n",
       "  <tbody>\n",
       "    <tr>\n",
       "      <th>80349</th>\n",
       "      <td>NaN</td>\n",
       "      <td>NaN</td>\n",
       "      <td>NaN</td>\n",
       "      <td>NaN</td>\n",
       "      <td>NaN</td>\n",
       "      <td>NaN</td>\n",
       "      <td>NaN</td>\n",
       "      <td>NaN</td>\n",
       "      <td>NaN</td>\n",
       "      <td>NaN</td>\n",
       "      <td>NaN</td>\n",
       "      <td>NaN</td>\n",
       "    </tr>\n",
       "    <tr>\n",
       "      <th>80350</th>\n",
       "      <td>NaN</td>\n",
       "      <td>NaN</td>\n",
       "      <td>NaN</td>\n",
       "      <td>NaN</td>\n",
       "      <td>NaN</td>\n",
       "      <td>NaN</td>\n",
       "      <td>NaN</td>\n",
       "      <td>NaN</td>\n",
       "      <td>NaN</td>\n",
       "      <td>NaN</td>\n",
       "      <td>NaN</td>\n",
       "      <td>NaN</td>\n",
       "    </tr>\n",
       "    <tr>\n",
       "      <th>80351</th>\n",
       "      <td>NaN</td>\n",
       "      <td>NaN</td>\n",
       "      <td>NaN</td>\n",
       "      <td>NaN</td>\n",
       "      <td>NaN</td>\n",
       "      <td>NaN</td>\n",
       "      <td>NaN</td>\n",
       "      <td>NaN</td>\n",
       "      <td>NaN</td>\n",
       "      <td>NaN</td>\n",
       "      <td>NaN</td>\n",
       "      <td>NaN</td>\n",
       "    </tr>\n",
       "    <tr>\n",
       "      <th>80352</th>\n",
       "      <td>NaN</td>\n",
       "      <td>NaN</td>\n",
       "      <td>NaN</td>\n",
       "      <td>NaN</td>\n",
       "      <td>NaN</td>\n",
       "      <td>NaN</td>\n",
       "      <td>NaN</td>\n",
       "      <td>NaN</td>\n",
       "      <td>NaN</td>\n",
       "      <td>NaN</td>\n",
       "      <td>NaN</td>\n",
       "      <td>NaN</td>\n",
       "    </tr>\n",
       "    <tr>\n",
       "      <th>80353</th>\n",
       "      <td>NaN</td>\n",
       "      <td>NaN</td>\n",
       "      <td>NaN</td>\n",
       "      <td>NaN</td>\n",
       "      <td>NaN</td>\n",
       "      <td>NaN</td>\n",
       "      <td>NaN</td>\n",
       "      <td>NaN</td>\n",
       "      <td>NaN</td>\n",
       "      <td>NaN</td>\n",
       "      <td>NaN</td>\n",
       "      <td>NaN</td>\n",
       "    </tr>\n",
       "    <tr>\n",
       "      <th>...</th>\n",
       "      <td>...</td>\n",
       "      <td>...</td>\n",
       "      <td>...</td>\n",
       "      <td>...</td>\n",
       "      <td>...</td>\n",
       "      <td>...</td>\n",
       "      <td>...</td>\n",
       "      <td>...</td>\n",
       "      <td>...</td>\n",
       "      <td>...</td>\n",
       "      <td>...</td>\n",
       "      <td>...</td>\n",
       "    </tr>\n",
       "    <tr>\n",
       "      <th>92087</th>\n",
       "      <td>NaN</td>\n",
       "      <td>NaN</td>\n",
       "      <td>NaN</td>\n",
       "      <td>NaN</td>\n",
       "      <td>NaN</td>\n",
       "      <td>NaN</td>\n",
       "      <td>NaN</td>\n",
       "      <td>NaN</td>\n",
       "      <td>NaN</td>\n",
       "      <td>NaN</td>\n",
       "      <td>NaN</td>\n",
       "      <td>NaN</td>\n",
       "    </tr>\n",
       "    <tr>\n",
       "      <th>92088</th>\n",
       "      <td>NaN</td>\n",
       "      <td>NaN</td>\n",
       "      <td>NaN</td>\n",
       "      <td>NaN</td>\n",
       "      <td>NaN</td>\n",
       "      <td>NaN</td>\n",
       "      <td>NaN</td>\n",
       "      <td>NaN</td>\n",
       "      <td>NaN</td>\n",
       "      <td>NaN</td>\n",
       "      <td>NaN</td>\n",
       "      <td>NaN</td>\n",
       "    </tr>\n",
       "    <tr>\n",
       "      <th>92089</th>\n",
       "      <td>NaN</td>\n",
       "      <td>NaN</td>\n",
       "      <td>NaN</td>\n",
       "      <td>NaN</td>\n",
       "      <td>NaN</td>\n",
       "      <td>NaN</td>\n",
       "      <td>NaN</td>\n",
       "      <td>NaN</td>\n",
       "      <td>NaN</td>\n",
       "      <td>NaN</td>\n",
       "      <td>NaN</td>\n",
       "      <td>NaN</td>\n",
       "    </tr>\n",
       "    <tr>\n",
       "      <th>92090</th>\n",
       "      <td>NaN</td>\n",
       "      <td>NaN</td>\n",
       "      <td>NaN</td>\n",
       "      <td>NaN</td>\n",
       "      <td>NaN</td>\n",
       "      <td>NaN</td>\n",
       "      <td>NaN</td>\n",
       "      <td>NaN</td>\n",
       "      <td>NaN</td>\n",
       "      <td>NaN</td>\n",
       "      <td>NaN</td>\n",
       "      <td>NaN</td>\n",
       "    </tr>\n",
       "    <tr>\n",
       "      <th>92091</th>\n",
       "      <td>NaN</td>\n",
       "      <td>NaN</td>\n",
       "      <td>NaN</td>\n",
       "      <td>NaN</td>\n",
       "      <td>NaN</td>\n",
       "      <td>NaN</td>\n",
       "      <td>NaN</td>\n",
       "      <td>NaN</td>\n",
       "      <td>NaN</td>\n",
       "      <td>NaN</td>\n",
       "      <td>NaN</td>\n",
       "      <td>NaN</td>\n",
       "    </tr>\n",
       "  </tbody>\n",
       "</table>\n",
       "<p>11743 rows × 12 columns</p>\n",
       "</div>"
      ],
      "text/plain": [
       "      Project Code Project_Status Calendar  Hours Week  Forecasted hours  \\\n",
       "80349          NaN            NaN      NaN    NaN  NaN               NaN   \n",
       "80350          NaN            NaN      NaN    NaN  NaN               NaN   \n",
       "80351          NaN            NaN      NaN    NaN  NaN               NaN   \n",
       "80352          NaN            NaN      NaN    NaN  NaN               NaN   \n",
       "80353          NaN            NaN      NaN    NaN  NaN               NaN   \n",
       "...            ...            ...      ...    ...  ...               ...   \n",
       "92087          NaN            NaN      NaN    NaN  NaN               NaN   \n",
       "92088          NaN            NaN      NaN    NaN  NaN               NaN   \n",
       "92089          NaN            NaN      NaN    NaN  NaN               NaN   \n",
       "92090          NaN            NaN      NaN    NaN  NaN               NaN   \n",
       "92091          NaN            NaN      NaN    NaN  NaN               NaN   \n",
       "\n",
       "       Budget Hours Service type Period_From Period_To  Cost Rate Department  \n",
       "80349           NaN          NaN         NaN       NaN        NaN        NaN  \n",
       "80350           NaN          NaN         NaN       NaN        NaN        NaN  \n",
       "80351           NaN          NaN         NaN       NaN        NaN        NaN  \n",
       "80352           NaN          NaN         NaN       NaN        NaN        NaN  \n",
       "80353           NaN          NaN         NaN       NaN        NaN        NaN  \n",
       "...             ...          ...         ...       ...        ...        ...  \n",
       "92087           NaN          NaN         NaN       NaN        NaN        NaN  \n",
       "92088           NaN          NaN         NaN       NaN        NaN        NaN  \n",
       "92089           NaN          NaN         NaN       NaN        NaN        NaN  \n",
       "92090           NaN          NaN         NaN       NaN        NaN        NaN  \n",
       "92091           NaN          NaN         NaN       NaN        NaN        NaN  \n",
       "\n",
       "[11743 rows x 12 columns]"
      ]
     },
     "execution_count": 9,
     "metadata": {},
     "output_type": "execute_result"
    }
   ],
   "source": [
    "bool = pd.isnull(hours['Project Code'])\n",
    "\n",
    "hours[bool]"
   ]
  },
  {
   "cell_type": "code",
   "execution_count": 10,
   "metadata": {},
   "outputs": [],
   "source": [
    "hours = hours.drop('Service type', axis=1)\n",
    "hours = hours.dropna()"
   ]
  },
  {
   "cell_type": "code",
   "execution_count": 11,
   "metadata": {},
   "outputs": [
    {
     "data": {
      "text/plain": [
       "Project Code        0\n",
       "Project_Status      0\n",
       "Calendar            0\n",
       "Hours               0\n",
       "Week                0\n",
       "Forecasted hours    0\n",
       "Budget Hours        0\n",
       "Period_From         0\n",
       "Period_To           0\n",
       "Cost Rate           0\n",
       "Department          0\n",
       "dtype: int64"
      ]
     },
     "execution_count": 11,
     "metadata": {},
     "output_type": "execute_result"
    }
   ],
   "source": [
    "hours.isnull().sum()"
   ]
  },
  {
   "cell_type": "code",
   "execution_count": 12,
   "metadata": {},
   "outputs": [
    {
     "data": {
      "text/plain": [
       "(80349, 11)"
      ]
     },
     "execution_count": 12,
     "metadata": {},
     "output_type": "execute_result"
    }
   ],
   "source": [
    "hours.shape"
   ]
  },
  {
   "cell_type": "code",
   "execution_count": 13,
   "metadata": {},
   "outputs": [
    {
     "data": {
      "text/html": [
       "<div>\n",
       "<style scoped>\n",
       "    .dataframe tbody tr th:only-of-type {\n",
       "        vertical-align: middle;\n",
       "    }\n",
       "\n",
       "    .dataframe tbody tr th {\n",
       "        vertical-align: top;\n",
       "    }\n",
       "\n",
       "    .dataframe thead th {\n",
       "        text-align: right;\n",
       "    }\n",
       "</style>\n",
       "<table border=\"1\" class=\"dataframe\">\n",
       "  <thead>\n",
       "    <tr style=\"text-align: right;\">\n",
       "      <th></th>\n",
       "      <th>Project Code</th>\n",
       "      <th>Project_Status</th>\n",
       "      <th>Calendar</th>\n",
       "      <th>Hours</th>\n",
       "      <th>Week</th>\n",
       "      <th>Forecasted hours</th>\n",
       "      <th>Budget Hours</th>\n",
       "      <th>Period_From</th>\n",
       "      <th>Period_To</th>\n",
       "      <th>Cost Rate</th>\n",
       "      <th>Department</th>\n",
       "    </tr>\n",
       "  </thead>\n",
       "  <tbody>\n",
       "    <tr>\n",
       "      <th>0</th>\n",
       "      <td>1WK2855</td>\n",
       "      <td>Under Development</td>\n",
       "      <td>EG_02</td>\n",
       "      <td>20.0</td>\n",
       "      <td>2022_W27</td>\n",
       "      <td>9.0</td>\n",
       "      <td>24.0</td>\n",
       "      <td>2022_W24</td>\n",
       "      <td>2022_W42</td>\n",
       "      <td>33.32</td>\n",
       "      <td>Camera</td>\n",
       "    </tr>\n",
       "    <tr>\n",
       "      <th>1</th>\n",
       "      <td>1WK1339</td>\n",
       "      <td>Under Development</td>\n",
       "      <td>EG_02</td>\n",
       "      <td>28.0</td>\n",
       "      <td>2022_W26</td>\n",
       "      <td>12.0</td>\n",
       "      <td>14.0</td>\n",
       "      <td>2022_W24</td>\n",
       "      <td>2022_W42</td>\n",
       "      <td>33.32</td>\n",
       "      <td>Camera</td>\n",
       "    </tr>\n",
       "    <tr>\n",
       "      <th>2</th>\n",
       "      <td>1WK1418</td>\n",
       "      <td>Under Development</td>\n",
       "      <td>EG_02</td>\n",
       "      <td>3.0</td>\n",
       "      <td>2022_W30</td>\n",
       "      <td>21.0</td>\n",
       "      <td>12.0</td>\n",
       "      <td>2022_W24</td>\n",
       "      <td>2022_W42</td>\n",
       "      <td>33.32</td>\n",
       "      <td>Camera</td>\n",
       "    </tr>\n",
       "    <tr>\n",
       "      <th>3</th>\n",
       "      <td>1WK1304</td>\n",
       "      <td>Under Development</td>\n",
       "      <td>EG_02</td>\n",
       "      <td>28.0</td>\n",
       "      <td>2022_W25</td>\n",
       "      <td>19.0</td>\n",
       "      <td>30.0</td>\n",
       "      <td>2022_W24</td>\n",
       "      <td>2022_W42</td>\n",
       "      <td>33.32</td>\n",
       "      <td>Camera</td>\n",
       "    </tr>\n",
       "    <tr>\n",
       "      <th>4</th>\n",
       "      <td>1WK1376</td>\n",
       "      <td>Under Acquisition</td>\n",
       "      <td>EG_02</td>\n",
       "      <td>4.0</td>\n",
       "      <td>2022_W26</td>\n",
       "      <td>6.0</td>\n",
       "      <td>25.0</td>\n",
       "      <td>2022_W24</td>\n",
       "      <td>2022_W42</td>\n",
       "      <td>33.32</td>\n",
       "      <td>Camera</td>\n",
       "    </tr>\n",
       "  </tbody>\n",
       "</table>\n",
       "</div>"
      ],
      "text/plain": [
       "  Project Code     Project_Status Calendar  Hours      Week  Forecasted hours  \\\n",
       "0      1WK2855  Under Development    EG_02   20.0  2022_W27               9.0   \n",
       "1      1WK1339  Under Development    EG_02   28.0  2022_W26              12.0   \n",
       "2      1WK1418  Under Development    EG_02    3.0  2022_W30              21.0   \n",
       "3      1WK1304  Under Development    EG_02   28.0  2022_W25              19.0   \n",
       "4      1WK1376  Under Acquisition    EG_02    4.0  2022_W26               6.0   \n",
       "\n",
       "   Budget Hours Period_From Period_To  Cost Rate Department  \n",
       "0          24.0    2022_W24  2022_W42      33.32     Camera  \n",
       "1          14.0    2022_W24  2022_W42      33.32     Camera  \n",
       "2          12.0    2022_W24  2022_W42      33.32     Camera  \n",
       "3          30.0    2022_W24  2022_W42      33.32     Camera  \n",
       "4          25.0    2022_W24  2022_W42      33.32     Camera  "
      ]
     },
     "execution_count": 13,
     "metadata": {},
     "output_type": "execute_result"
    }
   ],
   "source": [
    "hours.head()"
   ]
  },
  {
   "cell_type": "code",
   "execution_count": 14,
   "metadata": {},
   "outputs": [
    {
     "data": {
      "text/html": [
       "<div>\n",
       "<style scoped>\n",
       "    .dataframe tbody tr th:only-of-type {\n",
       "        vertical-align: middle;\n",
       "    }\n",
       "\n",
       "    .dataframe tbody tr th {\n",
       "        vertical-align: top;\n",
       "    }\n",
       "\n",
       "    .dataframe thead th {\n",
       "        text-align: right;\n",
       "    }\n",
       "</style>\n",
       "<table border=\"1\" class=\"dataframe\">\n",
       "  <thead>\n",
       "    <tr style=\"text-align: right;\">\n",
       "      <th></th>\n",
       "      <th>Hours</th>\n",
       "      <th>Forecasted hours</th>\n",
       "      <th>Budget Hours</th>\n",
       "      <th>Cost Rate</th>\n",
       "    </tr>\n",
       "  </thead>\n",
       "  <tbody>\n",
       "    <tr>\n",
       "      <th>count</th>\n",
       "      <td>80349.000000</td>\n",
       "      <td>80349.000000</td>\n",
       "      <td>80349.000000</td>\n",
       "      <td>8.034900e+04</td>\n",
       "    </tr>\n",
       "    <tr>\n",
       "      <th>mean</th>\n",
       "      <td>22.152024</td>\n",
       "      <td>20.466266</td>\n",
       "      <td>20.466677</td>\n",
       "      <td>3.332000e+01</td>\n",
       "    </tr>\n",
       "    <tr>\n",
       "      <th>std</th>\n",
       "      <td>15.198905</td>\n",
       "      <td>11.521039</td>\n",
       "      <td>11.531718</td>\n",
       "      <td>1.962531e-11</td>\n",
       "    </tr>\n",
       "    <tr>\n",
       "      <th>min</th>\n",
       "      <td>1.000000</td>\n",
       "      <td>1.000000</td>\n",
       "      <td>1.000000</td>\n",
       "      <td>3.332000e+01</td>\n",
       "    </tr>\n",
       "    <tr>\n",
       "      <th>25%</th>\n",
       "      <td>8.000000</td>\n",
       "      <td>10.000000</td>\n",
       "      <td>10.000000</td>\n",
       "      <td>3.332000e+01</td>\n",
       "    </tr>\n",
       "    <tr>\n",
       "      <th>50%</th>\n",
       "      <td>20.000000</td>\n",
       "      <td>20.000000</td>\n",
       "      <td>20.000000</td>\n",
       "      <td>3.332000e+01</td>\n",
       "    </tr>\n",
       "    <tr>\n",
       "      <th>75%</th>\n",
       "      <td>40.000000</td>\n",
       "      <td>30.000000</td>\n",
       "      <td>30.000000</td>\n",
       "      <td>3.332000e+01</td>\n",
       "    </tr>\n",
       "    <tr>\n",
       "      <th>max</th>\n",
       "      <td>66.000000</td>\n",
       "      <td>40.000000</td>\n",
       "      <td>40.000000</td>\n",
       "      <td>3.332000e+01</td>\n",
       "    </tr>\n",
       "  </tbody>\n",
       "</table>\n",
       "</div>"
      ],
      "text/plain": [
       "              Hours  Forecasted hours  Budget Hours     Cost Rate\n",
       "count  80349.000000      80349.000000  80349.000000  8.034900e+04\n",
       "mean      22.152024         20.466266     20.466677  3.332000e+01\n",
       "std       15.198905         11.521039     11.531718  1.962531e-11\n",
       "min        1.000000          1.000000      1.000000  3.332000e+01\n",
       "25%        8.000000         10.000000     10.000000  3.332000e+01\n",
       "50%       20.000000         20.000000     20.000000  3.332000e+01\n",
       "75%       40.000000         30.000000     30.000000  3.332000e+01\n",
       "max       66.000000         40.000000     40.000000  3.332000e+01"
      ]
     },
     "execution_count": 14,
     "metadata": {},
     "output_type": "execute_result"
    }
   ],
   "source": [
    "hours.describe()"
   ]
  },
  {
   "cell_type": "markdown",
   "metadata": {},
   "source": [
    "### Handle Duplicated Values"
   ]
  },
  {
   "cell_type": "code",
   "execution_count": 15,
   "metadata": {},
   "outputs": [
    {
     "data": {
      "text/plain": [
       "0    False\n",
       "1    False\n",
       "2    False\n",
       "3    False\n",
       "4    False\n",
       "dtype: bool"
      ]
     },
     "execution_count": 15,
     "metadata": {},
     "output_type": "execute_result"
    }
   ],
   "source": [
    "dupes = hours.duplicated()\n",
    "\n",
    "dupes.head()"
   ]
  },
  {
   "cell_type": "code",
   "execution_count": 16,
   "metadata": {},
   "outputs": [
    {
     "data": {
      "text/plain": [
       "9"
      ]
     },
     "execution_count": 16,
     "metadata": {},
     "output_type": "execute_result"
    }
   ],
   "source": [
    "sum(dupes)"
   ]
  },
  {
   "cell_type": "code",
   "execution_count": 17,
   "metadata": {},
   "outputs": [
    {
     "data": {
      "text/plain": [
       "(80340, 11)"
      ]
     },
     "execution_count": 17,
     "metadata": {},
     "output_type": "execute_result"
    }
   ],
   "source": [
    "hours = hours.drop_duplicates()\n",
    "\n",
    "hours.shape"
   ]
  },
  {
   "cell_type": "code",
   "execution_count": 18,
   "metadata": {},
   "outputs": [
    {
     "data": {
      "text/plain": [
       "Project Code        object\n",
       "Project_Status      object\n",
       "Calendar            object\n",
       "Hours                int32\n",
       "Week                object\n",
       "Forecasted hours     int32\n",
       "Budget Hours         int32\n",
       "Period_From         object\n",
       "Period_To           object\n",
       "Cost Rate            int32\n",
       "Department          object\n",
       "dtype: object"
      ]
     },
     "execution_count": 18,
     "metadata": {},
     "output_type": "execute_result"
    }
   ],
   "source": [
    "hours[['Hours', 'Forecasted hours', 'Budget Hours', 'Cost Rate']] = hours[['Hours', 'Forecasted hours', 'Budget Hours', 'Cost Rate']].astype(int)\n",
    "\n",
    "hours.dtypes"
   ]
  },
  {
   "cell_type": "code",
   "execution_count": 19,
   "metadata": {},
   "outputs": [
    {
     "data": {
      "text/html": [
       "<div>\n",
       "<style scoped>\n",
       "    .dataframe tbody tr th:only-of-type {\n",
       "        vertical-align: middle;\n",
       "    }\n",
       "\n",
       "    .dataframe tbody tr th {\n",
       "        vertical-align: top;\n",
       "    }\n",
       "\n",
       "    .dataframe thead th {\n",
       "        text-align: right;\n",
       "    }\n",
       "</style>\n",
       "<table border=\"1\" class=\"dataframe\">\n",
       "  <thead>\n",
       "    <tr style=\"text-align: right;\">\n",
       "      <th></th>\n",
       "      <th>Project Code</th>\n",
       "      <th>Project_Status</th>\n",
       "      <th>Calendar</th>\n",
       "      <th>Hours</th>\n",
       "      <th>Week</th>\n",
       "      <th>Forecasted hours</th>\n",
       "      <th>Budget Hours</th>\n",
       "      <th>Period_From</th>\n",
       "      <th>Period_To</th>\n",
       "      <th>Cost Rate</th>\n",
       "      <th>Department</th>\n",
       "    </tr>\n",
       "  </thead>\n",
       "  <tbody>\n",
       "    <tr>\n",
       "      <th>0</th>\n",
       "      <td>1WK2855</td>\n",
       "      <td>Under Development</td>\n",
       "      <td>EG_02</td>\n",
       "      <td>20</td>\n",
       "      <td>2022_W27</td>\n",
       "      <td>9</td>\n",
       "      <td>24</td>\n",
       "      <td>2022_W24</td>\n",
       "      <td>2022_W42</td>\n",
       "      <td>33</td>\n",
       "      <td>Camera</td>\n",
       "    </tr>\n",
       "    <tr>\n",
       "      <th>1</th>\n",
       "      <td>1WK1339</td>\n",
       "      <td>Under Development</td>\n",
       "      <td>EG_02</td>\n",
       "      <td>28</td>\n",
       "      <td>2022_W26</td>\n",
       "      <td>12</td>\n",
       "      <td>14</td>\n",
       "      <td>2022_W24</td>\n",
       "      <td>2022_W42</td>\n",
       "      <td>33</td>\n",
       "      <td>Camera</td>\n",
       "    </tr>\n",
       "    <tr>\n",
       "      <th>2</th>\n",
       "      <td>1WK1418</td>\n",
       "      <td>Under Development</td>\n",
       "      <td>EG_02</td>\n",
       "      <td>3</td>\n",
       "      <td>2022_W30</td>\n",
       "      <td>21</td>\n",
       "      <td>12</td>\n",
       "      <td>2022_W24</td>\n",
       "      <td>2022_W42</td>\n",
       "      <td>33</td>\n",
       "      <td>Camera</td>\n",
       "    </tr>\n",
       "    <tr>\n",
       "      <th>3</th>\n",
       "      <td>1WK1304</td>\n",
       "      <td>Under Development</td>\n",
       "      <td>EG_02</td>\n",
       "      <td>28</td>\n",
       "      <td>2022_W25</td>\n",
       "      <td>19</td>\n",
       "      <td>30</td>\n",
       "      <td>2022_W24</td>\n",
       "      <td>2022_W42</td>\n",
       "      <td>33</td>\n",
       "      <td>Camera</td>\n",
       "    </tr>\n",
       "    <tr>\n",
       "      <th>4</th>\n",
       "      <td>1WK1376</td>\n",
       "      <td>Under Acquisition</td>\n",
       "      <td>EG_02</td>\n",
       "      <td>4</td>\n",
       "      <td>2022_W26</td>\n",
       "      <td>6</td>\n",
       "      <td>25</td>\n",
       "      <td>2022_W24</td>\n",
       "      <td>2022_W42</td>\n",
       "      <td>33</td>\n",
       "      <td>Camera</td>\n",
       "    </tr>\n",
       "  </tbody>\n",
       "</table>\n",
       "</div>"
      ],
      "text/plain": [
       "  Project Code     Project_Status Calendar  Hours      Week  Forecasted hours  \\\n",
       "0      1WK2855  Under Development    EG_02     20  2022_W27                 9   \n",
       "1      1WK1339  Under Development    EG_02     28  2022_W26                12   \n",
       "2      1WK1418  Under Development    EG_02      3  2022_W30                21   \n",
       "3      1WK1304  Under Development    EG_02     28  2022_W25                19   \n",
       "4      1WK1376  Under Acquisition    EG_02      4  2022_W26                 6   \n",
       "\n",
       "   Budget Hours Period_From Period_To  Cost Rate Department  \n",
       "0            24    2022_W24  2022_W42         33     Camera  \n",
       "1            14    2022_W24  2022_W42         33     Camera  \n",
       "2            12    2022_W24  2022_W42         33     Camera  \n",
       "3            30    2022_W24  2022_W42         33     Camera  \n",
       "4            25    2022_W24  2022_W42         33     Camera  "
      ]
     },
     "execution_count": 19,
     "metadata": {},
     "output_type": "execute_result"
    }
   ],
   "source": [
    "hours.head()"
   ]
  },
  {
   "cell_type": "code",
   "execution_count": 20,
   "metadata": {},
   "outputs": [
    {
     "data": {
      "text/html": [
       "<div>\n",
       "<style scoped>\n",
       "    .dataframe tbody tr th:only-of-type {\n",
       "        vertical-align: middle;\n",
       "    }\n",
       "\n",
       "    .dataframe tbody tr th {\n",
       "        vertical-align: top;\n",
       "    }\n",
       "\n",
       "    .dataframe thead th {\n",
       "        text-align: right;\n",
       "    }\n",
       "</style>\n",
       "<table border=\"1\" class=\"dataframe\">\n",
       "  <thead>\n",
       "    <tr style=\"text-align: right;\">\n",
       "      <th></th>\n",
       "      <th>Hours</th>\n",
       "      <th>Forecasted hours</th>\n",
       "      <th>Budget Hours</th>\n",
       "      <th>Cost Rate</th>\n",
       "    </tr>\n",
       "  </thead>\n",
       "  <tbody>\n",
       "    <tr>\n",
       "      <th>Hours</th>\n",
       "      <td>1.000000</td>\n",
       "      <td>-0.003096</td>\n",
       "      <td>0.000269</td>\n",
       "      <td>NaN</td>\n",
       "    </tr>\n",
       "    <tr>\n",
       "      <th>Forecasted hours</th>\n",
       "      <td>-0.003096</td>\n",
       "      <td>1.000000</td>\n",
       "      <td>-0.002177</td>\n",
       "      <td>NaN</td>\n",
       "    </tr>\n",
       "    <tr>\n",
       "      <th>Budget Hours</th>\n",
       "      <td>0.000269</td>\n",
       "      <td>-0.002177</td>\n",
       "      <td>1.000000</td>\n",
       "      <td>NaN</td>\n",
       "    </tr>\n",
       "    <tr>\n",
       "      <th>Cost Rate</th>\n",
       "      <td>NaN</td>\n",
       "      <td>NaN</td>\n",
       "      <td>NaN</td>\n",
       "      <td>NaN</td>\n",
       "    </tr>\n",
       "  </tbody>\n",
       "</table>\n",
       "</div>"
      ],
      "text/plain": [
       "                     Hours  Forecasted hours  Budget Hours  Cost Rate\n",
       "Hours             1.000000         -0.003096      0.000269        NaN\n",
       "Forecasted hours -0.003096          1.000000     -0.002177        NaN\n",
       "Budget Hours      0.000269         -0.002177      1.000000        NaN\n",
       "Cost Rate              NaN               NaN           NaN        NaN"
      ]
     },
     "execution_count": 20,
     "metadata": {},
     "output_type": "execute_result"
    }
   ],
   "source": [
    "hours.corr()"
   ]
  },
  {
   "cell_type": "code",
   "execution_count": 21,
   "metadata": {},
   "outputs": [
    {
     "data": {
      "text/plain": [
       "<Figure size 576x360 with 0 Axes>"
      ]
     },
     "execution_count": 21,
     "metadata": {},
     "output_type": "execute_result"
    },
    {
     "data": {
      "image/png": "[encoded data removed]",
      "text/plain": [
       "<Figure size 432x288 with 2 Axes>"
      ]
     },
     "metadata": {},
     "output_type": "display_data"
    },
    {
     "data": {
      "text/plain": [
       "<Figure size 576x360 with 0 Axes>"
      ]
     },
     "metadata": {},
     "output_type": "display_data"
    }
   ],
   "source": [
    "sns.heatmap(hours.corr(),annot=True)\n",
    "plt.figure(figsize=(8,5))"
   ]
  },
  {
   "cell_type": "code",
   "execution_count": 22,
   "metadata": {},
   "outputs": [
    {
     "data": {
      "text/plain": [
       "Ticket Number      0\n",
       "Project Code       0\n",
       "Start Date         0\n",
       "End Date           0\n",
       "Stage              0\n",
       "Site             770\n",
       "Severity           0\n",
       "Ticket Origin      0\n",
       "dtype: int64"
      ]
     },
     "execution_count": 22,
     "metadata": {},
     "output_type": "execute_result"
    }
   ],
   "source": [
    "Engineering.isnull().sum()"
   ]
  },
  {
   "cell_type": "code",
   "execution_count": 23,
   "metadata": {},
   "outputs": [
    {
     "data": {
      "text/plain": [
       "Ticket Number    0\n",
       "Project Code     0\n",
       "Start Date       0\n",
       "End Date         0\n",
       "Stage            0\n",
       "Site             0\n",
       "Severity         0\n",
       "Ticket Origin    0\n",
       "dtype: int64"
      ]
     },
     "execution_count": 23,
     "metadata": {},
     "output_type": "execute_result"
    }
   ],
   "source": [
    "Engineering['Site'] = Engineering['Site'].fillna('Not Assigned')\n",
    "Engineering.isnull().sum()"
   ]
  },
  {
   "cell_type": "code",
   "execution_count": 24,
   "metadata": {},
   "outputs": [
    {
     "data": {
      "text/plain": [
       "0    False\n",
       "1    False\n",
       "2    False\n",
       "3    False\n",
       "4    False\n",
       "dtype: bool"
      ]
     },
     "execution_count": 24,
     "metadata": {},
     "output_type": "execute_result"
    }
   ],
   "source": [
    "dupees = Engineering.duplicated()\n",
    "\n",
    "dupees.head()"
   ]
  },
  {
   "cell_type": "code",
   "execution_count": 25,
   "metadata": {},
   "outputs": [
    {
     "data": {
      "text/plain": [
       "0"
      ]
     },
     "execution_count": 25,
     "metadata": {},
     "output_type": "execute_result"
    }
   ],
   "source": [
    "sum(dupees)"
   ]
  },
  {
   "cell_type": "code",
   "execution_count": 26,
   "metadata": {},
   "outputs": [],
   "source": [
    "Engineering.set_axis(['Ticket_Number', 'Project_Code', 'Start_Date', 'End_Date', 'Stage',\n",
    "       'Site', 'Severity', 'Ticket_Origin'], axis='columns', inplace=True)\n",
    "\n",
    "Engineering['Start_Date']=pd.to_datetime(Engineering['Start_Date'])"
   ]
  },
  {
   "cell_type": "markdown",
   "metadata": {},
   "source": [
    "## Identify outliers and explain data treatment steps"
   ]
  },
  {
   "cell_type": "code",
   "execution_count": 27,
   "metadata": {},
   "outputs": [
    {
     "data": {
      "text/plain": [
       "['Project Code',\n",
       " 'Project_Status',\n",
       " 'Calendar',\n",
       " 'Week',\n",
       " 'Period_From',\n",
       " 'Period_To',\n",
       " 'Department']"
      ]
     },
     "execution_count": 27,
     "metadata": {},
     "output_type": "execute_result"
    }
   ],
   "source": [
    "cat_features=[i for i in hours.columns if hours.dtypes[i]=='object']\n",
    "cat_features"
   ]
  },
  {
   "cell_type": "code",
   "execution_count": 28,
   "metadata": {},
   "outputs": [
    {
     "data": {
      "text/plain": [
       "['Hours', 'Forecasted hours', 'Budget Hours', 'Cost Rate']"
      ]
     },
     "execution_count": 28,
     "metadata": {},
     "output_type": "execute_result"
    }
   ],
   "source": [
    "num_features=[i for i in hours.columns if hours.dtypes[i]!='object']\n",
    "num_features"
   ]
  },
  {
   "cell_type": "code",
   "execution_count": 29,
   "metadata": {},
   "outputs": [
    {
     "name": "stderr",
     "output_type": "stream",
     "text": [
      "C:\\Users\\Eslam\\anaconda3\\lib\\site-packages\\seaborn\\_decorators.py:36: FutureWarning:\n",
      "\n",
      "Pass the following variable as a keyword arg: x. From version 0.12, the only valid positional argument will be `data`, and passing other arguments without an explicit keyword will result in an error or misinterpretation.\n",
      "\n",
      "C:\\Users\\Eslam\\anaconda3\\lib\\site-packages\\seaborn\\_core.py:1326: UserWarning:\n",
      "\n",
      "Vertical orientation ignored with only `x` specified.\n",
      "\n"
     ]
    },
    {
     "data": {
      "text/plain": [
       "<AxesSubplot:xlabel='Hours'>"
      ]
     },
     "execution_count": 29,
     "metadata": {},
     "output_type": "execute_result"
    },
    {
     "data": {
      "image/png": "[encoded data removed]",
      "text/plain": [
       "<Figure size 720x576 with 1 Axes>"
      ]
     },
     "metadata": {},
     "output_type": "display_data"
    }
   ],
   "source": [
    "fig, ax = plt.subplots(figsize = (10, 8))\n",
    "\n",
    "sns.boxplot(hours['Hours'],\n",
    "            orient = 'v')"
   ]
  },
  {
   "cell_type": "code",
   "execution_count": 30,
   "metadata": {},
   "outputs": [
    {
     "name": "stderr",
     "output_type": "stream",
     "text": [
      "C:\\Users\\Eslam\\anaconda3\\lib\\site-packages\\seaborn\\_decorators.py:36: FutureWarning:\n",
      "\n",
      "Pass the following variable as a keyword arg: x. From version 0.12, the only valid positional argument will be `data`, and passing other arguments without an explicit keyword will result in an error or misinterpretation.\n",
      "\n",
      "C:\\Users\\Eslam\\anaconda3\\lib\\site-packages\\seaborn\\_core.py:1326: UserWarning:\n",
      "\n",
      "Vertical orientation ignored with only `x` specified.\n",
      "\n"
     ]
    },
    {
     "data": {
      "text/plain": [
       "<AxesSubplot:xlabel='Forecasted hours'>"
      ]
     },
     "execution_count": 30,
     "metadata": {},
     "output_type": "execute_result"
    },
    {
     "data": {
      "image/png": "[encoded data removed]",
      "text/plain": [
       "<Figure size 720x576 with 1 Axes>"
      ]
     },
     "metadata": {},
     "output_type": "display_data"
    }
   ],
   "source": [
    "fig, ax = plt.subplots(figsize = (10, 8))\n",
    "\n",
    "sns.boxplot(hours['Forecasted hours'],\n",
    "            orient = 'v')"
   ]
  },
  {
   "cell_type": "code",
   "execution_count": 31,
   "metadata": {},
   "outputs": [
    {
     "name": "stderr",
     "output_type": "stream",
     "text": [
      "C:\\Users\\Eslam\\anaconda3\\lib\\site-packages\\seaborn\\_decorators.py:36: FutureWarning:\n",
      "\n",
      "Pass the following variable as a keyword arg: x. From version 0.12, the only valid positional argument will be `data`, and passing other arguments without an explicit keyword will result in an error or misinterpretation.\n",
      "\n",
      "C:\\Users\\Eslam\\anaconda3\\lib\\site-packages\\seaborn\\_core.py:1326: UserWarning:\n",
      "\n",
      "Vertical orientation ignored with only `x` specified.\n",
      "\n"
     ]
    },
    {
     "data": {
      "text/plain": [
       "<AxesSubplot:xlabel='Budget Hours'>"
      ]
     },
     "execution_count": 31,
     "metadata": {},
     "output_type": "execute_result"
    },
    {
     "data": {
      "image/png": "[encoded data removed]",
      "text/plain": [
       "<Figure size 720x576 with 1 Axes>"
      ]
     },
     "metadata": {},
     "output_type": "display_data"
    }
   ],
   "source": [
    "fig, ax = plt.subplots(figsize = (10, 8))\n",
    "\n",
    "sns.boxplot(hours['Budget Hours'],\n",
    "            orient = 'v')"
   ]
  },
  {
   "cell_type": "code",
   "execution_count": 32,
   "metadata": {},
   "outputs": [
    {
     "name": "stdout",
     "output_type": "stream",
     "text": [
      "No outliers in Hours\n",
      "No outliers in Forecasted hours\n",
      "No outliers in Budget Hours\n",
      "There are outliers in Cost Rate\n",
      "Count of outliers are: 0\n"
     ]
    }
   ],
   "source": [
    "#Count of Outliers\n",
    "def count_outliers(Data,col):\n",
    "        q1 = Data[col].quantile(0.25,interpolation='nearest')\n",
    "        q2 = Data[col].quantile(0.5,interpolation='nearest')\n",
    "        q3 = Data[col].quantile(0.75,interpolation='nearest')\n",
    "        q4 = Data[col].quantile(1,interpolation='nearest')\n",
    "        IQR = q3 -q1\n",
    "        global LLP\n",
    "        global ULP\n",
    "        LLP = q1 - 1.5*IQR\n",
    "        ULP = q3 + 1.5*IQR\n",
    "        if Data[col].min() > LLP and Data[col].max() < ULP:\n",
    "            print(\"No outliers in\",i)\n",
    "        else:\n",
    "            print(\"There are outliers in\",i)\n",
    "            x = Data[Data[col]<LLP][col].size\n",
    "            y = Data[Data[col]>ULP][col].size\n",
    "            a.append(i)\n",
    "            print('Count of outliers are:',x+y)\n",
    "global a\n",
    "a = []\n",
    "for i in num_features:\n",
    "    count_outliers(hours,i)"
   ]
  },
  {
   "cell_type": "markdown",
   "metadata": {},
   "source": [
    "## Identify trends and patterns"
   ]
  },
  {
   "cell_type": "code",
   "execution_count": 33,
   "metadata": {},
   "outputs": [
    {
     "data": {
      "text/plain": [
       "<seaborn.axisgrid.PairGrid at 0x229666e5c10>"
      ]
     },
     "execution_count": 33,
     "metadata": {},
     "output_type": "execute_result"
    },
    {
     "data": {
      "image/png": "[encoded data removed]",
      "text/plain": [
       "<Figure size 720x720 with 20 Axes>"
      ]
     },
     "metadata": {},
     "output_type": "display_data"
    }
   ],
   "source": [
    "sns.pairplot(hours)"
   ]
  },
  {
   "cell_type": "code",
   "execution_count": 34,
   "metadata": {},
   "outputs": [
    {
     "data": {
      "text/html": [
       "<div>\n",
       "<style scoped>\n",
       "    .dataframe tbody tr th:only-of-type {\n",
       "        vertical-align: middle;\n",
       "    }\n",
       "\n",
       "    .dataframe tbody tr th {\n",
       "        vertical-align: top;\n",
       "    }\n",
       "\n",
       "    .dataframe thead th {\n",
       "        text-align: right;\n",
       "    }\n",
       "</style>\n",
       "<table border=\"1\" class=\"dataframe\">\n",
       "  <thead>\n",
       "    <tr style=\"text-align: right;\">\n",
       "      <th></th>\n",
       "      <th>Ticket_Number</th>\n",
       "      <th>Project_Code</th>\n",
       "      <th>Start_Date</th>\n",
       "      <th>End_Date</th>\n",
       "      <th>Stage</th>\n",
       "      <th>Site</th>\n",
       "      <th>Severity</th>\n",
       "      <th>Ticket_Origin</th>\n",
       "    </tr>\n",
       "  </thead>\n",
       "  <tbody>\n",
       "    <tr>\n",
       "      <th>0</th>\n",
       "      <td>Tict1</td>\n",
       "      <td>0WK1000</td>\n",
       "      <td>2022-03-17</td>\n",
       "      <td>9/1/2022</td>\n",
       "      <td>Closed</td>\n",
       "      <td>Russia</td>\n",
       "      <td>Red</td>\n",
       "      <td>Customer</td>\n",
       "    </tr>\n",
       "    <tr>\n",
       "      <th>1</th>\n",
       "      <td>Tict2</td>\n",
       "      <td>0WK1000</td>\n",
       "      <td>2022-08-08</td>\n",
       "      <td>10/27/2022</td>\n",
       "      <td>Closed</td>\n",
       "      <td>Russia</td>\n",
       "      <td>Orange</td>\n",
       "      <td>Quality</td>\n",
       "    </tr>\n",
       "    <tr>\n",
       "      <th>2</th>\n",
       "      <td>Tict3</td>\n",
       "      <td>0WK1000</td>\n",
       "      <td>2022-06-30</td>\n",
       "      <td>10/31/2022</td>\n",
       "      <td>Closed</td>\n",
       "      <td>Russia</td>\n",
       "      <td>Green</td>\n",
       "      <td>Customer</td>\n",
       "    </tr>\n",
       "    <tr>\n",
       "      <th>3</th>\n",
       "      <td>Tict4</td>\n",
       "      <td>0WK1000</td>\n",
       "      <td>2022-01-31</td>\n",
       "      <td>9/26/2022</td>\n",
       "      <td>Under Implementation</td>\n",
       "      <td>Russia</td>\n",
       "      <td>Green</td>\n",
       "      <td>Quality</td>\n",
       "    </tr>\n",
       "    <tr>\n",
       "      <th>4</th>\n",
       "      <td>Tict5</td>\n",
       "      <td>0WK1000</td>\n",
       "      <td>2022-05-23</td>\n",
       "      <td>10/3/2022</td>\n",
       "      <td>Closed</td>\n",
       "      <td>Russia</td>\n",
       "      <td>Orange</td>\n",
       "      <td>Supplier</td>\n",
       "    </tr>\n",
       "  </tbody>\n",
       "</table>\n",
       "</div>"
      ],
      "text/plain": [
       "  Ticket_Number Project_Code Start_Date    End_Date                 Stage  \\\n",
       "0         Tict1      0WK1000 2022-03-17    9/1/2022                Closed   \n",
       "1         Tict2      0WK1000 2022-08-08  10/27/2022                Closed   \n",
       "2         Tict3      0WK1000 2022-06-30  10/31/2022                Closed   \n",
       "3         Tict4      0WK1000 2022-01-31   9/26/2022  Under Implementation   \n",
       "4         Tict5      0WK1000 2022-05-23   10/3/2022                Closed   \n",
       "\n",
       "     Site Severity Ticket_Origin  \n",
       "0  Russia      Red      Customer  \n",
       "1  Russia   Orange       Quality  \n",
       "2  Russia    Green      Customer  \n",
       "3  Russia    Green       Quality  \n",
       "4  Russia   Orange      Supplier  "
      ]
     },
     "execution_count": 34,
     "metadata": {},
     "output_type": "execute_result"
    }
   ],
   "source": [
    "Engineering.head()"
   ]
  },
  {
   "cell_type": "code",
   "execution_count": 35,
   "metadata": {},
   "outputs": [
    {
     "data": {
      "text/html": [
       "<div>\n",
       "<style scoped>\n",
       "    .dataframe tbody tr th:only-of-type {\n",
       "        vertical-align: middle;\n",
       "    }\n",
       "\n",
       "    .dataframe tbody tr th {\n",
       "        vertical-align: top;\n",
       "    }\n",
       "\n",
       "    .dataframe thead th {\n",
       "        text-align: right;\n",
       "    }\n",
       "</style>\n",
       "<table border=\"1\" class=\"dataframe\">\n",
       "  <thead>\n",
       "    <tr style=\"text-align: right;\">\n",
       "      <th></th>\n",
       "      <th>Ticket_Number</th>\n",
       "      <th>Project_Code</th>\n",
       "      <th>Start_Date</th>\n",
       "      <th>End_Date</th>\n",
       "      <th>Stage</th>\n",
       "      <th>Site</th>\n",
       "      <th>Severity</th>\n",
       "      <th>Ticket_Origin</th>\n",
       "      <th>month</th>\n",
       "    </tr>\n",
       "  </thead>\n",
       "  <tbody>\n",
       "    <tr>\n",
       "      <th>0</th>\n",
       "      <td>Tict1</td>\n",
       "      <td>0WK1000</td>\n",
       "      <td>2022-03-17</td>\n",
       "      <td>9/1/2022</td>\n",
       "      <td>Closed</td>\n",
       "      <td>Russia</td>\n",
       "      <td>Red</td>\n",
       "      <td>Customer</td>\n",
       "      <td>3</td>\n",
       "    </tr>\n",
       "    <tr>\n",
       "      <th>1</th>\n",
       "      <td>Tict2</td>\n",
       "      <td>0WK1000</td>\n",
       "      <td>2022-08-08</td>\n",
       "      <td>10/27/2022</td>\n",
       "      <td>Closed</td>\n",
       "      <td>Russia</td>\n",
       "      <td>Orange</td>\n",
       "      <td>Quality</td>\n",
       "      <td>8</td>\n",
       "    </tr>\n",
       "    <tr>\n",
       "      <th>2</th>\n",
       "      <td>Tict3</td>\n",
       "      <td>0WK1000</td>\n",
       "      <td>2022-06-30</td>\n",
       "      <td>10/31/2022</td>\n",
       "      <td>Closed</td>\n",
       "      <td>Russia</td>\n",
       "      <td>Green</td>\n",
       "      <td>Customer</td>\n",
       "      <td>6</td>\n",
       "    </tr>\n",
       "    <tr>\n",
       "      <th>3</th>\n",
       "      <td>Tict4</td>\n",
       "      <td>0WK1000</td>\n",
       "      <td>2022-01-31</td>\n",
       "      <td>9/26/2022</td>\n",
       "      <td>Under Implementation</td>\n",
       "      <td>Russia</td>\n",
       "      <td>Green</td>\n",
       "      <td>Quality</td>\n",
       "      <td>1</td>\n",
       "    </tr>\n",
       "    <tr>\n",
       "      <th>4</th>\n",
       "      <td>Tict5</td>\n",
       "      <td>0WK1000</td>\n",
       "      <td>2022-05-23</td>\n",
       "      <td>10/3/2022</td>\n",
       "      <td>Closed</td>\n",
       "      <td>Russia</td>\n",
       "      <td>Orange</td>\n",
       "      <td>Supplier</td>\n",
       "      <td>5</td>\n",
       "    </tr>\n",
       "  </tbody>\n",
       "</table>\n",
       "</div>"
      ],
      "text/plain": [
       "  Ticket_Number Project_Code Start_Date    End_Date                 Stage  \\\n",
       "0         Tict1      0WK1000 2022-03-17    9/1/2022                Closed   \n",
       "1         Tict2      0WK1000 2022-08-08  10/27/2022                Closed   \n",
       "2         Tict3      0WK1000 2022-06-30  10/31/2022                Closed   \n",
       "3         Tict4      0WK1000 2022-01-31   9/26/2022  Under Implementation   \n",
       "4         Tict5      0WK1000 2022-05-23   10/3/2022                Closed   \n",
       "\n",
       "     Site Severity Ticket_Origin  month  \n",
       "0  Russia      Red      Customer      3  \n",
       "1  Russia   Orange       Quality      8  \n",
       "2  Russia    Green      Customer      6  \n",
       "3  Russia    Green       Quality      1  \n",
       "4  Russia   Orange      Supplier      5  "
      ]
     },
     "execution_count": 35,
     "metadata": {},
     "output_type": "execute_result"
    }
   ],
   "source": [
    "Engineering['month']=Engineering['Start_Date'].dt.month\n",
    "Engineering.head()"
   ]
  },
  {
   "cell_type": "code",
   "execution_count": 36,
   "metadata": {},
   "outputs": [
    {
     "data": {
      "text/plain": [
       "month\n",
       "1    12155\n",
       "2    11013\n",
       "3    12290\n",
       "4    11589\n",
       "5    12765\n",
       "6    11887\n",
       "7    11534\n",
       "8    13195\n",
       "Name: month, dtype: int64"
      ]
     },
     "execution_count": 36,
     "metadata": {},
     "output_type": "execute_result"
    }
   ],
   "source": [
    "q1= Engineering.groupby('month')['month'].count()\n",
    "q1"
   ]
  },
  {
   "cell_type": "code",
   "execution_count": 37,
   "metadata": {},
   "outputs": [
    {
     "data": {
      "text/plain": [
       "<AxesSubplot:xlabel='month'>"
      ]
     },
     "execution_count": 37,
     "metadata": {},
     "output_type": "execute_result"
    },
    {
     "data": {
      "image/png": "[encoded data removed]",
      "text/plain": [
       "<Figure size 432x288 with 1 Axes>"
      ]
     },
     "metadata": {},
     "output_type": "display_data"
    }
   ],
   "source": [
    "q1.plot()"
   ]
  },
  {
   "cell_type": "markdown",
   "metadata": {},
   "source": [
    "### Note: The number of projects increased in (January, March, May, August).\n",
    "\n",
    "### Note: The number of projects decreased in (February, April, June, July)."
   ]
  },
  {
   "cell_type": "markdown",
   "metadata": {},
   "source": [
    "## SLA for tickets"
   ]
  },
  {
   "cell_type": "code",
   "execution_count": 38,
   "metadata": {},
   "outputs": [
    {
     "data": {
      "text/plain": [
       "<AxesSubplot:>"
      ]
     },
     "execution_count": 38,
     "metadata": {},
     "output_type": "execute_result"
    },
    {
     "data": {
      "image/png": "[encoded data removed]",
      "text/plain": [
       "<Figure size 432x288 with 1 Axes>"
      ]
     },
     "metadata": {},
     "output_type": "display_data"
    }
   ],
   "source": [
    "Engineering['Stage'].value_counts().plot(kind= 'bar')"
   ]
  },
  {
   "cell_type": "code",
   "execution_count": 39,
   "metadata": {
    "scrolled": true
   },
   "outputs": [
    {
     "data": {
      "text/plain": [
       "Stage\n",
       "Cancelled               17752\n",
       "Closed                  69608\n",
       "Integrated                384\n",
       "Rejected                  192\n",
       "Under Analysis           7340\n",
       "Under Implementation     1152\n",
       "Name: Stage, dtype: int64"
      ]
     },
     "execution_count": 39,
     "metadata": {},
     "output_type": "execute_result"
    }
   ],
   "source": [
    "Stages = Engineering.groupby('Stage')['Stage'].count()\n",
    "Stages"
   ]
  },
  {
   "cell_type": "code",
   "execution_count": 40,
   "metadata": {},
   "outputs": [
    {
     "data": {
      "text/plain": [
       "(96428, 9)"
      ]
     },
     "execution_count": 40,
     "metadata": {},
     "output_type": "execute_result"
    }
   ],
   "source": [
    "Engineering.shape"
   ]
  },
  {
   "cell_type": "code",
   "execution_count": 41,
   "metadata": {},
   "outputs": [
    {
     "name": "stdout",
     "output_type": "stream",
     "text": [
      "Percentages of stages :\n",
      "Percentages of closed projects = 72.19\n",
      "Percentages of cancelled projects = 18.41\n",
      "Percentages of Under Analysis projects = 7.61\n",
      "Percentages of Under Implementation projects = 1.19\n",
      "Percentages of Integrated projects = 0.4\n",
      "Percentages of Rejected projects = 0.2\n"
     ]
    }
   ],
   "source": [
    "print(\"Percentages of stages :\" )\n",
    "print(\"Percentages of closed projects =\", round((69608/96428)*100 ,2))\n",
    "print(\"Percentages of cancelled projects =\", round((17752/96428)*100 ,2))\n",
    "print(\"Percentages of Under Analysis projects =\", round((7340/96428)*100 ,2))\n",
    "print(\"Percentages of Under Implementation projects =\", round((1152/96428)*100 ,2))\n",
    "print(\"Percentages of Integrated projects =\", round((384/96428)*100 ,2))\n",
    "print(\"Percentages of Rejected projects =\", round((192/96428)*100 ,2))"
   ]
  },
  {
   "cell_type": "markdown",
   "metadata": {},
   "source": [
    "### This largest percentage (72.19) indicates the completion of most projects, the quality of work and customer satisfaction, So this shows SLA for tickets."
   ]
  },
  {
   "cell_type": "markdown",
   "metadata": {},
   "source": [
    "# Defining very important KPIs"
   ]
  },
  {
   "cell_type": "code",
   "execution_count": 42,
   "metadata": {},
   "outputs": [
    {
     "data": {
      "text/html": [
       "<div>\n",
       "<style scoped>\n",
       "    .dataframe tbody tr th:only-of-type {\n",
       "        vertical-align: middle;\n",
       "    }\n",
       "\n",
       "    .dataframe tbody tr th {\n",
       "        vertical-align: top;\n",
       "    }\n",
       "\n",
       "    .dataframe thead th {\n",
       "        text-align: right;\n",
       "    }\n",
       "</style>\n",
       "<table border=\"1\" class=\"dataframe\">\n",
       "  <thead>\n",
       "    <tr style=\"text-align: right;\">\n",
       "      <th></th>\n",
       "      <th>Project Code</th>\n",
       "      <th>Project_Status</th>\n",
       "      <th>Calendar</th>\n",
       "      <th>Hours</th>\n",
       "      <th>Week</th>\n",
       "      <th>Forecasted hours</th>\n",
       "      <th>Budget Hours</th>\n",
       "      <th>Period_From</th>\n",
       "      <th>Period_To</th>\n",
       "      <th>Cost Rate</th>\n",
       "      <th>Department</th>\n",
       "    </tr>\n",
       "  </thead>\n",
       "  <tbody>\n",
       "    <tr>\n",
       "      <th>0</th>\n",
       "      <td>1WK2855</td>\n",
       "      <td>Under Development</td>\n",
       "      <td>EG_02</td>\n",
       "      <td>20</td>\n",
       "      <td>2022_W27</td>\n",
       "      <td>9</td>\n",
       "      <td>24</td>\n",
       "      <td>2022_W24</td>\n",
       "      <td>2022_W42</td>\n",
       "      <td>33</td>\n",
       "      <td>Camera</td>\n",
       "    </tr>\n",
       "    <tr>\n",
       "      <th>1</th>\n",
       "      <td>1WK1339</td>\n",
       "      <td>Under Development</td>\n",
       "      <td>EG_02</td>\n",
       "      <td>28</td>\n",
       "      <td>2022_W26</td>\n",
       "      <td>12</td>\n",
       "      <td>14</td>\n",
       "      <td>2022_W24</td>\n",
       "      <td>2022_W42</td>\n",
       "      <td>33</td>\n",
       "      <td>Camera</td>\n",
       "    </tr>\n",
       "    <tr>\n",
       "      <th>2</th>\n",
       "      <td>1WK1418</td>\n",
       "      <td>Under Development</td>\n",
       "      <td>EG_02</td>\n",
       "      <td>3</td>\n",
       "      <td>2022_W30</td>\n",
       "      <td>21</td>\n",
       "      <td>12</td>\n",
       "      <td>2022_W24</td>\n",
       "      <td>2022_W42</td>\n",
       "      <td>33</td>\n",
       "      <td>Camera</td>\n",
       "    </tr>\n",
       "    <tr>\n",
       "      <th>3</th>\n",
       "      <td>1WK1304</td>\n",
       "      <td>Under Development</td>\n",
       "      <td>EG_02</td>\n",
       "      <td>28</td>\n",
       "      <td>2022_W25</td>\n",
       "      <td>19</td>\n",
       "      <td>30</td>\n",
       "      <td>2022_W24</td>\n",
       "      <td>2022_W42</td>\n",
       "      <td>33</td>\n",
       "      <td>Camera</td>\n",
       "    </tr>\n",
       "    <tr>\n",
       "      <th>4</th>\n",
       "      <td>1WK1376</td>\n",
       "      <td>Under Acquisition</td>\n",
       "      <td>EG_02</td>\n",
       "      <td>4</td>\n",
       "      <td>2022_W26</td>\n",
       "      <td>6</td>\n",
       "      <td>25</td>\n",
       "      <td>2022_W24</td>\n",
       "      <td>2022_W42</td>\n",
       "      <td>33</td>\n",
       "      <td>Camera</td>\n",
       "    </tr>\n",
       "  </tbody>\n",
       "</table>\n",
       "</div>"
      ],
      "text/plain": [
       "  Project Code     Project_Status Calendar  Hours      Week  Forecasted hours  \\\n",
       "0      1WK2855  Under Development    EG_02     20  2022_W27                 9   \n",
       "1      1WK1339  Under Development    EG_02     28  2022_W26                12   \n",
       "2      1WK1418  Under Development    EG_02      3  2022_W30                21   \n",
       "3      1WK1304  Under Development    EG_02     28  2022_W25                19   \n",
       "4      1WK1376  Under Acquisition    EG_02      4  2022_W26                 6   \n",
       "\n",
       "   Budget Hours Period_From Period_To  Cost Rate Department  \n",
       "0            24    2022_W24  2022_W42         33     Camera  \n",
       "1            14    2022_W24  2022_W42         33     Camera  \n",
       "2            12    2022_W24  2022_W42         33     Camera  \n",
       "3            30    2022_W24  2022_W42         33     Camera  \n",
       "4            25    2022_W24  2022_W42         33     Camera  "
      ]
     },
     "execution_count": 42,
     "metadata": {},
     "output_type": "execute_result"
    }
   ],
   "source": [
    "hours.head()"
   ]
  },
  {
   "cell_type": "code",
   "execution_count": 43,
   "metadata": {},
   "outputs": [
    {
     "data": {
      "text/html": [
       "<div>\n",
       "<style scoped>\n",
       "    .dataframe tbody tr th:only-of-type {\n",
       "        vertical-align: middle;\n",
       "    }\n",
       "\n",
       "    .dataframe tbody tr th {\n",
       "        vertical-align: top;\n",
       "    }\n",
       "\n",
       "    .dataframe thead th {\n",
       "        text-align: right;\n",
       "    }\n",
       "</style>\n",
       "<table border=\"1\" class=\"dataframe\">\n",
       "  <thead>\n",
       "    <tr style=\"text-align: right;\">\n",
       "      <th></th>\n",
       "      <th>Project Code</th>\n",
       "      <th>Project_Status</th>\n",
       "      <th>Calendar</th>\n",
       "      <th>Hours</th>\n",
       "      <th>Week</th>\n",
       "      <th>Forecasted hours</th>\n",
       "      <th>Budget Hours</th>\n",
       "      <th>Period_From</th>\n",
       "      <th>Period_To</th>\n",
       "      <th>Cost Rate</th>\n",
       "      <th>Department</th>\n",
       "      <th>Budget Cost</th>\n",
       "    </tr>\n",
       "  </thead>\n",
       "  <tbody>\n",
       "    <tr>\n",
       "      <th>0</th>\n",
       "      <td>1WK2855</td>\n",
       "      <td>Under Development</td>\n",
       "      <td>EG_02</td>\n",
       "      <td>20</td>\n",
       "      <td>2022_W27</td>\n",
       "      <td>9</td>\n",
       "      <td>24</td>\n",
       "      <td>2022_W24</td>\n",
       "      <td>2022_W42</td>\n",
       "      <td>33</td>\n",
       "      <td>Camera</td>\n",
       "      <td>792</td>\n",
       "    </tr>\n",
       "    <tr>\n",
       "      <th>1</th>\n",
       "      <td>1WK1339</td>\n",
       "      <td>Under Development</td>\n",
       "      <td>EG_02</td>\n",
       "      <td>28</td>\n",
       "      <td>2022_W26</td>\n",
       "      <td>12</td>\n",
       "      <td>14</td>\n",
       "      <td>2022_W24</td>\n",
       "      <td>2022_W42</td>\n",
       "      <td>33</td>\n",
       "      <td>Camera</td>\n",
       "      <td>462</td>\n",
       "    </tr>\n",
       "    <tr>\n",
       "      <th>2</th>\n",
       "      <td>1WK1418</td>\n",
       "      <td>Under Development</td>\n",
       "      <td>EG_02</td>\n",
       "      <td>3</td>\n",
       "      <td>2022_W30</td>\n",
       "      <td>21</td>\n",
       "      <td>12</td>\n",
       "      <td>2022_W24</td>\n",
       "      <td>2022_W42</td>\n",
       "      <td>33</td>\n",
       "      <td>Camera</td>\n",
       "      <td>396</td>\n",
       "    </tr>\n",
       "    <tr>\n",
       "      <th>3</th>\n",
       "      <td>1WK1304</td>\n",
       "      <td>Under Development</td>\n",
       "      <td>EG_02</td>\n",
       "      <td>28</td>\n",
       "      <td>2022_W25</td>\n",
       "      <td>19</td>\n",
       "      <td>30</td>\n",
       "      <td>2022_W24</td>\n",
       "      <td>2022_W42</td>\n",
       "      <td>33</td>\n",
       "      <td>Camera</td>\n",
       "      <td>990</td>\n",
       "    </tr>\n",
       "    <tr>\n",
       "      <th>4</th>\n",
       "      <td>1WK1376</td>\n",
       "      <td>Under Acquisition</td>\n",
       "      <td>EG_02</td>\n",
       "      <td>4</td>\n",
       "      <td>2022_W26</td>\n",
       "      <td>6</td>\n",
       "      <td>25</td>\n",
       "      <td>2022_W24</td>\n",
       "      <td>2022_W42</td>\n",
       "      <td>33</td>\n",
       "      <td>Camera</td>\n",
       "      <td>825</td>\n",
       "    </tr>\n",
       "  </tbody>\n",
       "</table>\n",
       "</div>"
      ],
      "text/plain": [
       "  Project Code     Project_Status Calendar  Hours      Week  Forecasted hours  \\\n",
       "0      1WK2855  Under Development    EG_02     20  2022_W27                 9   \n",
       "1      1WK1339  Under Development    EG_02     28  2022_W26                12   \n",
       "2      1WK1418  Under Development    EG_02      3  2022_W30                21   \n",
       "3      1WK1304  Under Development    EG_02     28  2022_W25                19   \n",
       "4      1WK1376  Under Acquisition    EG_02      4  2022_W26                 6   \n",
       "\n",
       "   Budget Hours Period_From Period_To  Cost Rate Department  Budget Cost  \n",
       "0            24    2022_W24  2022_W42         33     Camera          792  \n",
       "1            14    2022_W24  2022_W42         33     Camera          462  \n",
       "2            12    2022_W24  2022_W42         33     Camera          396  \n",
       "3            30    2022_W24  2022_W42         33     Camera          990  \n",
       "4            25    2022_W24  2022_W42         33     Camera          825  "
      ]
     },
     "execution_count": 43,
     "metadata": {},
     "output_type": "execute_result"
    }
   ],
   "source": [
    "hours['Budget Cost']=hours['Budget Hours'] * hours['Cost Rate']\n",
    "hours.head()"
   ]
  },
  {
   "cell_type": "code",
   "execution_count": null,
   "metadata": {},
   "outputs": [],
   "source": []
  }
 ],
 "metadata": {
  "kernelspec": {
   "display_name": "Python 3",
   "language": "python",
   "name": "python3"
  },
  "language_info": {
   "codemirror_mode": {
    "name": "ipython",
    "version": 3
   },
   "file_extension": ".py",
   "mimetype": "text/x-python",
   "name": "python",
   "nbconvert_exporter": "python",
   "pygments_lexer": "ipython3",
   "version": "3.8.3"
  }
 },
 "nbformat": 4,
 "nbformat_minor": 4
}
